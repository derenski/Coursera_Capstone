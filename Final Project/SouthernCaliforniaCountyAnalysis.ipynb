{
 "cells": [
  {
   "cell_type": "markdown",
   "metadata": {},
   "source": [
    "# Getting the Geojson file for Southern California County Subdivisons "
   ]
  },
  {
   "cell_type": "code",
   "execution_count": 1,
   "metadata": {},
   "outputs": [],
   "source": [
    "import pandas as pd\n",
    "import numpy as np\n",
    "import urllib.request, json, bs4 as bs, requests\n",
    "import seaborn as sns\n",
    "import matplotlib.pyplot\n",
    "import re\n",
    "\n",
    "## AWATER = area that is water\n",
    "## ALAND = area that is land\n",
    "## INTPTLAT is the centroid's latitude\n",
    "## INTPTLON is the centroid's longitude"
   ]
  },
  {
   "cell_type": "code",
   "execution_count": 2,
   "metadata": {},
   "outputs": [],
   "source": [
    "## geojson for all California counties\n",
    "## http://s3-us-west-2.amazonaws.com/boundaries.latimes.com/archive/1.0/boundary-set/counties-2012.geojson\n",
    "## Basic county data (with centroids): https://en.wikipedia.org/wiki/User:Michael_J/County_table\n",
    "\n",
    "\n",
    "## Subdivisions: \n",
    "## http://s3-us-west-2.amazonaws.com/boundaries.latimes.com/archive/1.0/boundary-set/county-subdivisions-2012.geojson\n",
    "\n",
    "## County demographics: \n",
    "## Population and Income: \n",
    "##https://en.wikipedia.org/wiki/List_of_California_locations_by_income\n",
    "\n",
    "## California county voter preferences \n",
    "## https://en.wikipedia.org/wiki/California_locations_by_voter_registration\n",
    "\n",
    "## You also have race makeup data from the census \n",
    "\n",
    "## Measuring Diversity: http://www.unc.edu/~pmeyer/carstat/tools.html\n",
    "\n",
    "geojson_url = \"http://s3-us-west-2.amazonaws.com/boundaries.latimes.com/archive/1.0/boundary-set/counties-2012.geojson\""
   ]
  },
  {
   "cell_type": "markdown",
   "metadata": {},
   "source": [
    "# Aquiring and Preprocessing County Demographic Data\n"
   ]
  },
  {
   "cell_type": "code",
   "execution_count": 2,
   "metadata": {},
   "outputs": [],
   "source": [
    "basic_county_data_url = \"https://en.wikipedia.org/wiki/User:Michael_J/County_table\"\n",
    "\n",
    "basic_county_page_data = requests.get(basic_county_data_url, timeout = 5)\n",
    "\n",
    "basic_county_page_content = bs.BeautifulSoup(basic_county_page_data.content, \"html.parser\")\n"
   ]
  },
  {
   "cell_type": "code",
   "execution_count": 3,
   "metadata": {},
   "outputs": [],
   "source": [
    "basic_county_data_table = basic_county_page_content.find('table',{'class':'wikitable sortable'})\n",
    "\n",
    "basic_county_columns = basic_county_data_table.find_all('th')\n",
    "\n",
    "column_names = []\n",
    "rows = []\n",
    "\n",
    "for col in basic_county_columns: \n",
    "    \n",
    "    column_names.append(col.text)\n",
    "# re.search(\"\\[.*\\]|\\(.*\\)|[mikm].*$\", column_names[7])\n",
    "\n",
    "first_phase_column_names = [re.sub(\"\\[.*\\]|\\(.*\\)|\\n\",\"\",i) for i in column_names]\n",
    "\n",
    "second_phase_column_names = [re.sub(\"mi.*\",\" (mi2)\",i) for i in first_phase_column_names]\n",
    "\n",
    "third_phase_column_names = [re.sub(\"km.*\",\" (km2)\",i) for i in second_phase_column_names]\n",
    "\n",
    "final_column_names = [col.strip() for col in third_phase_column_names]    \n",
    "    \n",
    "    \n",
    "basic_county_raw_rows = basic_county_data_table.find_all('tr')\n",
    "\n",
    "for row in basic_county_raw_rows[1:]:\n",
    "    \n",
    "    rows.append(row.text.split('\\n'))\n",
    "\n",
    "better_rows = []\n",
    "\n",
    "for row in rows:\n",
    "    \n",
    "    better_rows.append([i for i in row if i != ''])\n",
    "    \n",
    "string_columns = []\n",
    "\n",
    "for num in range(len(better_rows[0])):\n",
    "    \n",
    "    current_column = []\n",
    "\n",
    "    for r in range(len(rows)):\n",
    "        \n",
    "        current_column.append(better_rows[r][num]) \n",
    "        \n",
    "    string_columns.append(current_column)"
   ]
  },
  {
   "cell_type": "code",
   "execution_count": 4,
   "metadata": {},
   "outputs": [
    {
     "data": {
      "text/plain": [
       "<matplotlib.axes._subplots.AxesSubplot at 0x117aef160>"
      ]
     },
     "execution_count": 4,
     "metadata": {},
     "output_type": "execute_result"
    },
    {
     "data": {
      "image/png": "[encoded data removed]",
      "text/plain": [
       "<Figure size 432x288 with 1 Axes>"
      ]
     },
     "metadata": {},
     "output_type": "display_data"
    }
   ],
   "source": [
    "population_numeric = [float(re.sub(',','',i)) for i in string_columns[5]]\n",
    "\n",
    "landareakm2_numeric = [float(re.sub(',','',i)) for i in string_columns[6]]\n",
    "\n",
    "landareami2_numeric = [float(re.sub(',','',i)) for i in string_columns[7]]\n",
    "\n",
    "waterareakm2_prep = [re.sub(',','',i) for i in string_columns[8]]\n",
    "\n",
    "waterareakm2_prep_final = [re.sub('-',\"0\",i) for i in waterareakm2_prep]\n",
    "\n",
    "waterareakm2_numeric = []\n",
    "\n",
    "for i in waterareakm2_prep_final:\n",
    "    \n",
    "    try: \n",
    "        waterareakm2_numeric.append(float(i))\n",
    "    except: \n",
    "        \n",
    "        waterareakm2_numeric.append(None)\n",
    "        \n",
    "waterareami2_prep = [re.sub(',','',i) for i in string_columns[9]]\n",
    "\n",
    "waterareami2_prep_final = [re.sub('-',\"0\",i) for i in waterareami2_prep]\n",
    "\n",
    "waterareami2_numeric = []\n",
    "\n",
    "\n",
    "for i in waterareami2_prep_final:\n",
    "    \n",
    "    try: \n",
    "        \n",
    "        waterareami2_numeric.append(float(i))\n",
    "    \n",
    "    except: \n",
    "        \n",
    "        waterareami2_numeric.append(None)     \n",
    "        \n",
    "        \n",
    "totalareakm2_numeric = [float(re.sub(',','',i)) for i in string_columns[10]]  \n",
    "        \n",
    "totalareami2_numeric = [float(re.sub(',','',i)) for i in string_columns[11]]  \n",
    "\n",
    "bad_symbol_for_coordinates = string_columns[12][0][len(string_columns[12][0])-1]\n",
    "\n",
    "\n",
    "lats_numeric = [float(re.sub(bad_symbol_for_coordinates,\"\",i)) for i in string_columns[12]]\n",
    "\n",
    "\n",
    "lons_phase_1 = [re.sub(bad_symbol_for_coordinates,\"\",i) for i in string_columns[13]]\n",
    "\n",
    "lons_numeric = [float(re.sub(u\"\\u2013\", \"-\", i)) for i in lons_phase_1]\n",
    "\n",
    "\n",
    "cleaned_columns = string_columns[0:5]\n",
    "\n",
    "cleaned_columns.extend((population_numeric, landareakm2_numeric, landareami2_numeric,\n",
    "                       waterareakm2_numeric, waterareami2_numeric, totalareakm2_numeric,\n",
    "                       totalareami2_numeric, lats_numeric, lons_numeric))\n",
    "\n",
    "data_dict = dict(zip(final_column_names,cleaned_columns))\n",
    "\n",
    "\n",
    "county_census_data = pd.DataFrame(data_dict, columns = final_column_names)\n",
    "\n",
    "\n",
    "california_county_data = county_census_data.loc[county_census_data['State'] == 'CA',:]\n",
    "sns.swarmplot(y = california_county_data['Water Area (km2)']\n",
    "                    /california_county_data['Total Area (km2)'])"
   ]
  },
  {
   "cell_type": "code",
   "execution_count": 6,
   "metadata": {},
   "outputs": [],
   "source": [
    "california_county_data.to_csv('basic_county_data.csv')"
   ]
  },
  {
   "cell_type": "code",
   "execution_count": null,
   "metadata": {},
   "outputs": [],
   "source": []
  }
 ],
 "metadata": {
  "kernelspec": {
   "display_name": "Python 3",
   "language": "python",
   "name": "python3"
  },
  "language_info": {
   "codemirror_mode": {
    "name": "ipython",
    "version": 3
   },
   "file_extension": ".py",
   "mimetype": "text/x-python",
   "name": "python",
   "nbconvert_exporter": "python",
   "pygments_lexer": "ipython3",
   "version": "3.6.5"
  }
 },
 "nbformat": 4,
 "nbformat_minor": 2
}
