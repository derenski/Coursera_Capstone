{
 "cells": [
  {
   "cell_type": "markdown",
   "metadata": {},
   "source": [
    "## Aggregating Demographic Data"
   ]
  },
  {
   "cell_type": "code",
   "execution_count": 1,
   "metadata": {},
   "outputs": [],
   "source": [
    "import pandas as pd\n",
    "import numpy as np\n",
    "import urllib.request, json, bs4 as bs, requests\n",
    "import seaborn as sns\n",
    "import matplotlib.pyplot\n",
    "import json\n",
    "import re"
   ]
  },
  {
   "cell_type": "code",
   "execution_count": 2,
   "metadata": {},
   "outputs": [],
   "source": [
    "disaggregated_demographics = pd.read_excel(\"race_data.xls\", sheet_name = 1)"
   ]
  },
  {
   "cell_type": "code",
   "execution_count": 3,
   "metadata": {},
   "outputs": [
    {
     "data": {
      "text/plain": [
       "CountyCode      int64\n",
       "CountyName     object\n",
       "RaceCode        int64\n",
       "RaceName       object\n",
       "Gender         object\n",
       "Age             int64\n",
       "M4Y2000         int64\n",
       "M7Y2000       float64\n",
       "M7Y2001       float64\n",
       "M7Y2002       float64\n",
       "M7Y2003       float64\n",
       "M7Y2004       float64\n",
       "M7Y2005       float64\n",
       "M7Y2006       float64\n",
       "M7Y2007       float64\n",
       "M7Y2008       float64\n",
       "M7Y2009       float64\n",
       "M4Y2010       float64\n",
       "dtype: object"
      ]
     },
     "execution_count": 3,
     "metadata": {},
     "output_type": "execute_result"
    }
   ],
   "source": [
    "disaggregated_demographics.dtypes"
   ]
  },
  {
   "cell_type": "code",
   "execution_count": 4,
   "metadata": {},
   "outputs": [],
   "source": [
    "grouped_data_numeric = disaggregated_demographics.groupby(['CountyName','RaceName'])"
   ]
  },
  {
   "cell_type": "code",
   "execution_count": 5,
   "metadata": {},
   "outputs": [],
   "source": [
    "aggregated_pops = grouped_data_numeric.sum()"
   ]
  },
  {
   "cell_type": "code",
   "execution_count": 6,
   "metadata": {},
   "outputs": [],
   "source": [
    "raw_totals = aggregated_pops.loc[:,[\"M4Y2000\",\"M7Y2000\",\"M7Y2001\",\"M7Y2002\",\"M7Y2003\",\"M7Y2004\",\"M7Y2005\",\"M7Y2006\",\"M7Y2007\",\n",
    "                       \"M7Y2008\",\"M7Y2009\",\"M4Y2010\"]]"
   ]
  },
  {
   "cell_type": "code",
   "execution_count": 7,
   "metadata": {},
   "outputs": [
    {
     "data": {
      "text/plain": [
       "M4Y2000      int64\n",
       "M7Y2000    float64\n",
       "M7Y2001    float64\n",
       "M7Y2002    float64\n",
       "M7Y2003    float64\n",
       "M7Y2004    float64\n",
       "M7Y2005    float64\n",
       "M7Y2006    float64\n",
       "M7Y2007    float64\n",
       "M7Y2008    float64\n",
       "M7Y2009    float64\n",
       "M4Y2010    float64\n",
       "dtype: object"
      ]
     },
     "execution_count": 7,
     "metadata": {},
     "output_type": "execute_result"
    }
   ],
   "source": [
    "raw_totals.dtypes"
   ]
  },
  {
   "cell_type": "code",
   "execution_count": 8,
   "metadata": {},
   "outputs": [],
   "source": [
    "props = raw_totals.groupby('CountyName').apply(lambda x: x/x.sum())"
   ]
  },
  {
   "cell_type": "code",
   "execution_count": 9,
   "metadata": {},
   "outputs": [
    {
     "data": {
      "text/html": [
       "<div>\n",
       "<style scoped>\n",
       "    .dataframe tbody tr th:only-of-type {\n",
       "        vertical-align: middle;\n",
       "    }\n",
       "\n",
       "    .dataframe tbody tr th {\n",
       "        vertical-align: top;\n",
       "    }\n",
       "\n",
       "    .dataframe thead th {\n",
       "        text-align: right;\n",
       "    }\n",
       "</style>\n",
       "<table border=\"1\" class=\"dataframe\">\n",
       "  <thead>\n",
       "    <tr style=\"text-align: right;\">\n",
       "      <th></th>\n",
       "      <th>M4Y2000</th>\n",
       "      <th>M7Y2000</th>\n",
       "      <th>M7Y2001</th>\n",
       "      <th>M7Y2002</th>\n",
       "      <th>M7Y2003</th>\n",
       "      <th>M7Y2004</th>\n",
       "      <th>M7Y2005</th>\n",
       "      <th>M7Y2006</th>\n",
       "      <th>M7Y2007</th>\n",
       "      <th>M7Y2008</th>\n",
       "      <th>M7Y2009</th>\n",
       "      <th>M4Y2010</th>\n",
       "    </tr>\n",
       "    <tr>\n",
       "      <th>RaceName</th>\n",
       "      <th></th>\n",
       "      <th></th>\n",
       "      <th></th>\n",
       "      <th></th>\n",
       "      <th></th>\n",
       "      <th></th>\n",
       "      <th></th>\n",
       "      <th></th>\n",
       "      <th></th>\n",
       "      <th></th>\n",
       "      <th></th>\n",
       "      <th></th>\n",
       "    </tr>\n",
       "  </thead>\n",
       "  <tbody>\n",
       "    <tr>\n",
       "      <th>American Indian</th>\n",
       "      <td>0.007993</td>\n",
       "      <td>0.007705</td>\n",
       "      <td>0.007524</td>\n",
       "      <td>0.007417</td>\n",
       "      <td>0.007350</td>\n",
       "      <td>0.007189</td>\n",
       "      <td>0.007056</td>\n",
       "      <td>0.007007</td>\n",
       "      <td>0.006944</td>\n",
       "      <td>0.006891</td>\n",
       "      <td>0.006822</td>\n",
       "      <td>0.006542</td>\n",
       "    </tr>\n",
       "    <tr>\n",
       "      <th>Asian</th>\n",
       "      <td>0.082332</td>\n",
       "      <td>0.084356</td>\n",
       "      <td>0.085224</td>\n",
       "      <td>0.086403</td>\n",
       "      <td>0.087648</td>\n",
       "      <td>0.088169</td>\n",
       "      <td>0.088807</td>\n",
       "      <td>0.090107</td>\n",
       "      <td>0.090964</td>\n",
       "      <td>0.091799</td>\n",
       "      <td>0.092599</td>\n",
       "      <td>0.094747</td>\n",
       "    </tr>\n",
       "    <tr>\n",
       "      <th>Black</th>\n",
       "      <td>0.051114</td>\n",
       "      <td>0.050997</td>\n",
       "      <td>0.050834</td>\n",
       "      <td>0.050584</td>\n",
       "      <td>0.050345</td>\n",
       "      <td>0.050198</td>\n",
       "      <td>0.049994</td>\n",
       "      <td>0.049692</td>\n",
       "      <td>0.049448</td>\n",
       "      <td>0.049240</td>\n",
       "      <td>0.049029</td>\n",
       "      <td>0.048786</td>\n",
       "    </tr>\n",
       "    <tr>\n",
       "      <th>Hispanic</th>\n",
       "      <td>0.439924</td>\n",
       "      <td>0.445788</td>\n",
       "      <td>0.450762</td>\n",
       "      <td>0.455908</td>\n",
       "      <td>0.461055</td>\n",
       "      <td>0.466184</td>\n",
       "      <td>0.471484</td>\n",
       "      <td>0.476841</td>\n",
       "      <td>0.482060</td>\n",
       "      <td>0.487326</td>\n",
       "      <td>0.496435</td>\n",
       "      <td>0.503058</td>\n",
       "    </tr>\n",
       "    <tr>\n",
       "      <th>Multi-Race</th>\n",
       "      <td>0.013811</td>\n",
       "      <td>0.012826</td>\n",
       "      <td>0.013361</td>\n",
       "      <td>0.013929</td>\n",
       "      <td>0.014508</td>\n",
       "      <td>0.014760</td>\n",
       "      <td>0.015021</td>\n",
       "      <td>0.015488</td>\n",
       "      <td>0.015767</td>\n",
       "      <td>0.016012</td>\n",
       "      <td>0.016444</td>\n",
       "      <td>0.016624</td>\n",
       "    </tr>\n",
       "    <tr>\n",
       "      <th>Pacific Islander</th>\n",
       "      <td>0.000867</td>\n",
       "      <td>0.000925</td>\n",
       "      <td>0.000952</td>\n",
       "      <td>0.000985</td>\n",
       "      <td>0.001019</td>\n",
       "      <td>0.001008</td>\n",
       "      <td>0.001015</td>\n",
       "      <td>0.001051</td>\n",
       "      <td>0.001067</td>\n",
       "      <td>0.001085</td>\n",
       "      <td>0.001113</td>\n",
       "      <td>0.001178</td>\n",
       "    </tr>\n",
       "    <tr>\n",
       "      <th>White</th>\n",
       "      <td>0.403958</td>\n",
       "      <td>0.397403</td>\n",
       "      <td>0.391342</td>\n",
       "      <td>0.384775</td>\n",
       "      <td>0.378076</td>\n",
       "      <td>0.372491</td>\n",
       "      <td>0.366623</td>\n",
       "      <td>0.359814</td>\n",
       "      <td>0.353750</td>\n",
       "      <td>0.347647</td>\n",
       "      <td>0.337559</td>\n",
       "      <td>0.329065</td>\n",
       "    </tr>\n",
       "  </tbody>\n",
       "</table>\n",
       "</div>"
      ],
      "text/plain": [
       "                   M4Y2000   M7Y2000   M7Y2001   M7Y2002   M7Y2003   M7Y2004  \\\n",
       "RaceName                                                                       \n",
       "American Indian   0.007993  0.007705  0.007524  0.007417  0.007350  0.007189   \n",
       "Asian             0.082332  0.084356  0.085224  0.086403  0.087648  0.088169   \n",
       "Black             0.051114  0.050997  0.050834  0.050584  0.050345  0.050198   \n",
       "Hispanic          0.439924  0.445788  0.450762  0.455908  0.461055  0.466184   \n",
       "Multi-Race        0.013811  0.012826  0.013361  0.013929  0.014508  0.014760   \n",
       "Pacific Islander  0.000867  0.000925  0.000952  0.000985  0.001019  0.001008   \n",
       "White             0.403958  0.397403  0.391342  0.384775  0.378076  0.372491   \n",
       "\n",
       "                   M7Y2005   M7Y2006   M7Y2007   M7Y2008   M7Y2009   M4Y2010  \n",
       "RaceName                                                                      \n",
       "American Indian   0.007056  0.007007  0.006944  0.006891  0.006822  0.006542  \n",
       "Asian             0.088807  0.090107  0.090964  0.091799  0.092599  0.094747  \n",
       "Black             0.049994  0.049692  0.049448  0.049240  0.049029  0.048786  \n",
       "Hispanic          0.471484  0.476841  0.482060  0.487326  0.496435  0.503058  \n",
       "Multi-Race        0.015021  0.015488  0.015767  0.016012  0.016444  0.016624  \n",
       "Pacific Islander  0.001015  0.001051  0.001067  0.001085  0.001113  0.001178  \n",
       "White             0.366623  0.359814  0.353750  0.347647  0.337559  0.329065  "
      ]
     },
     "execution_count": 9,
     "metadata": {},
     "output_type": "execute_result"
    }
   ],
   "source": [
    "props.loc['Fresno',:]\n"
   ]
  },
  {
   "cell_type": "code",
   "execution_count": 19,
   "metadata": {},
   "outputs": [],
   "source": [
    "demData2010 = props.loc[:,'M4Y2010'].unstack()"
   ]
  },
  {
   "cell_type": "code",
   "execution_count": 21,
   "metadata": {},
   "outputs": [],
   "source": [
    "demData2010.to_csv('ethnicityData2010.csv')"
   ]
  },
  {
   "cell_type": "code",
   "execution_count": null,
   "metadata": {},
   "outputs": [],
   "source": []
  }
 ],
 "metadata": {
  "kernelspec": {
   "display_name": "Python 3",
   "language": "python",
   "name": "python3"
  },
  "language_info": {
   "codemirror_mode": {
    "name": "ipython",
    "version": 3
   },
   "file_extension": ".py",
   "mimetype": "text/x-python",
   "name": "python",
   "nbconvert_exporter": "python",
   "pygments_lexer": "ipython3",
   "version": "3.6.5"
  }
 },
 "nbformat": 4,
 "nbformat_minor": 2
}
