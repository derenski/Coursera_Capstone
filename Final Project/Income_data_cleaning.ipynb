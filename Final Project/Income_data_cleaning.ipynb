{
 "cells": [
  {
   "cell_type": "code",
   "execution_count": 3,
   "metadata": {},
   "outputs": [],
   "source": [
    "import pandas as pd\n",
    "import numpy as np\n",
    "import urllib.request, json, bs4 as bs, requests\n",
    "import seaborn as sns\n",
    "import matplotlib.pyplot\n",
    "import re"
   ]
  },
  {
   "cell_type": "code",
   "execution_count": 6,
   "metadata": {},
   "outputs": [],
   "source": [
    "income_url = \"https://en.wikipedia.org/wiki/List_of_California_locations_by_income\"\n",
    "\n",
    "county_income_data = requests.get(income_url, timeout = 5)\n",
    "\n",
    "county_income_page_content = bs.BeautifulSoup(county_income_data.content, \"html.parser\")\n",
    "\n",
    "county_income_table = county_income_page_content.find('table',{'class':'wikitable sortable'})\n"
   ]
  },
  {
   "cell_type": "code",
   "execution_count": 50,
   "metadata": {},
   "outputs": [],
   "source": [
    "the_actual_income_table = county_income_table.find_all('tr')\n",
    "\n",
    "columns = the_actual_income_table[0].text.split('\\n\\n')\n",
    "\n",
    "final_columns = [re.sub(\"\\[.*\\]|\\n\",\"\",name) for name in columns]\n",
    "\n",
    "html_rows = the_actual_income_table[1:]"
   ]
  },
  {
   "cell_type": "code",
   "execution_count": 74,
   "metadata": {},
   "outputs": [],
   "source": [
    "raw_rows = [j.text.split('\\n') for j in html_rows]\n",
    "\n",
    "better_rows = [i[1:(len(i)-1)] for i in raw_rows]\n",
    "\n",
    "rows_that_should_be_numeric = [i[1:len(i)] for i in better_rows]\n",
    "\n",
    "county_names = [i[0] for i in better_rows]\n"
   ]
  },
  {
   "cell_type": "code",
   "execution_count": 43,
   "metadata": {},
   "outputs": [],
   "source": [
    "final_rows = []\n",
    "\n",
    "for num_row in rows_that_should_be_numeric:\n",
    "    \n",
    "    current_row = [float(re.sub(',|\\$','',u)) for u in num_row]\n",
    "    \n",
    "    final_rows.append(current_row)\n",
    "    \n",
    "\n"
   ]
  },
  {
   "cell_type": "code",
   "execution_count": 73,
   "metadata": {},
   "outputs": [],
   "source": [
    "\n",
    "\n",
    "column_values_for_numerics = [[i[j] for i in final_rows] for j in range(len(final_columns)-1)]\n"
   ]
  },
  {
   "cell_type": "code",
   "execution_count": 79,
   "metadata": {},
   "outputs": [],
   "source": [
    "ready_to_make_data = [county_names] + column_values_for_numerics "
   ]
  },
  {
   "cell_type": "code",
   "execution_count": 81,
   "metadata": {},
   "outputs": [],
   "source": [
    "income_data_dict = dict(zip(final_columns, ready_to_make_data))"
   ]
  },
  {
   "cell_type": "code",
   "execution_count": 82,
   "metadata": {},
   "outputs": [],
   "source": [
    "california_county_income_data = pd.DataFrame(income_data_dict, columns = final_columns)"
   ]
  },
  {
   "cell_type": "code",
   "execution_count": 84,
   "metadata": {},
   "outputs": [],
   "source": [
    "california_county_income_data.to_csv('County_Income_Data.csv')"
   ]
  },
  {
   "cell_type": "code",
   "execution_count": null,
   "metadata": {},
   "outputs": [],
   "source": []
  }
 ],
 "metadata": {
  "kernelspec": {
   "display_name": "Python 3",
   "language": "python",
   "name": "python3"
  },
  "language_info": {
   "codemirror_mode": {
    "name": "ipython",
    "version": 3
   },
   "file_extension": ".py",
   "mimetype": "text/x-python",
   "name": "python",
   "nbconvert_exporter": "python",
   "pygments_lexer": "ipython3",
   "version": "3.6.5"
  }
 },
 "nbformat": 4,
 "nbformat_minor": 2
}
