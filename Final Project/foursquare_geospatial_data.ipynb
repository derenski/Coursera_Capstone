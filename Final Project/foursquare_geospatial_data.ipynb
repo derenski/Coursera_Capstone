{
 "cells": [
  {
   "cell_type": "code",
   "execution_count": 1,
   "metadata": {},
   "outputs": [],
   "source": [
    "import pandas as pd\n",
    "import numpy as np\n",
    "import urllib.request, json, bs4 as bs, requests\n",
    "import seaborn as sns\n",
    "import matplotlib.pyplot\n",
    "import json\n",
    "import re"
   ]
  },
  {
   "cell_type": "markdown",
   "metadata": {},
   "source": [
    "# Pulling the Data From FourSquare"
   ]
  },
  {
   "cell_type": "code",
   "execution_count": 9,
   "metadata": {},
   "outputs": [],
   "source": [
    "CLIENT_ID = 'YUU0NVDSIOGUCYMC0B0ICX50TC1Z1B0X3VVZLQKCLGQLHDY2' # your Foursquare ID\n",
    "CLIENT_SECRET = 'T1PRGFNN21DILJN4G5DCHD30RWT5FK02Z4SXV0ZJNWFD5W25' # your Foursquare Secret\n",
    "VERSION = '20180605' # Foursquare API version\n",
    "LIMIT = 500\n",
    "RADIUS = 5000"
   ]
  },
  {
   "cell_type": "code",
   "execution_count": 2,
   "metadata": {},
   "outputs": [],
   "source": [
    "county_data = pd.read_csv(\"full_county_data.csv\")"
   ]
  },
  {
   "cell_type": "code",
   "execution_count": 397,
   "metadata": {},
   "outputs": [],
   "source": [
    "lat=county_data['Latitude'][0]\n",
    "lng=county_data['Longitude'][0]\n",
    "county_seats = county_data['County Seat']"
   ]
  },
  {
   "cell_type": "code",
   "execution_count": 398,
   "metadata": {},
   "outputs": [],
   "source": [
    "url = \"\"\"https://api.foursquare.com/v2/venues/search?categoryId=4d4b7105d754a06374d81259\n",
    "&client_id={}&client_secret={}&v={}&ll={},{}&radius={}&limit={}\"\"\".format(\n",
    "            CLIENT_ID, \n",
    "            CLIENT_SECRET, \n",
    "            VERSION, \n",
    "            lat, \n",
    "            lng, \n",
    "            RADIUS, \n",
    "            LIMIT)\n",
    "results = requests.get(url)\n",
    "#.json()[\"response\"]['groups'][0]['items']"
   ]
  },
  {
   "cell_type": "code",
   "execution_count": 395,
   "metadata": {},
   "outputs": [
    {
     "name": "stdout",
     "output_type": "stream",
     "text": [
      "Alameda\n",
      "Alpine\n",
      "Amador\n",
      "Butte\n",
      "Calaveras\n",
      "Colusa\n",
      "Contra Costa\n",
      "Del Norte\n",
      "El Dorado\n",
      "Fresno\n",
      "Glenn\n",
      "Humboldt\n",
      "Imperial\n"
     ]
    },
    {
     "ename": "KeyboardInterrupt",
     "evalue": "",
     "output_type": "error",
     "traceback": [
      "\u001b[0;31m---------------------------------------------------------------------------\u001b[0m",
      "\u001b[0;31mKeyboardInterrupt\u001b[0m                         Traceback (most recent call last)",
      "\u001b[0;32m<ipython-input-395-1b463b0df7e5>\u001b[0m in \u001b[0;36m<module>\u001b[0;34m()\u001b[0m\n\u001b[1;32m     13\u001b[0m             \u001b[0mRADIUS\u001b[0m\u001b[0;34m,\u001b[0m\u001b[0;34m\u001b[0m\u001b[0m\n\u001b[1;32m     14\u001b[0m             LIMIT)\n\u001b[0;32m---> 15\u001b[0;31m     \u001b[0mresults\u001b[0m \u001b[0;34m=\u001b[0m \u001b[0mrequests\u001b[0m\u001b[0;34m.\u001b[0m\u001b[0mget\u001b[0m\u001b[0;34m(\u001b[0m\u001b[0murl\u001b[0m\u001b[0;34m)\u001b[0m\u001b[0;34m\u001b[0m\u001b[0m\n\u001b[0m\u001b[1;32m     16\u001b[0m \u001b[0;34m\u001b[0m\u001b[0m\n\u001b[1;32m     17\u001b[0m     \u001b[0;32mfor\u001b[0m \u001b[0mrestaurant\u001b[0m \u001b[0;32min\u001b[0m \u001b[0mresults\u001b[0m\u001b[0;34m.\u001b[0m\u001b[0mjson\u001b[0m\u001b[0;34m(\u001b[0m\u001b[0;34m)\u001b[0m\u001b[0;34m[\u001b[0m\u001b[0;34m'response'\u001b[0m\u001b[0;34m]\u001b[0m\u001b[0;34m[\u001b[0m\u001b[0;34m'venues'\u001b[0m\u001b[0;34m]\u001b[0m\u001b[0;34m:\u001b[0m\u001b[0;34m\u001b[0m\u001b[0m\n",
      "\u001b[0;32m/Library/Frameworks/Python.framework/Versions/3.6/lib/python3.6/site-packages/requests/api.py\u001b[0m in \u001b[0;36mget\u001b[0;34m(url, params, **kwargs)\u001b[0m\n\u001b[1;32m     70\u001b[0m \u001b[0;34m\u001b[0m\u001b[0m\n\u001b[1;32m     71\u001b[0m     \u001b[0mkwargs\u001b[0m\u001b[0;34m.\u001b[0m\u001b[0msetdefault\u001b[0m\u001b[0;34m(\u001b[0m\u001b[0;34m'allow_redirects'\u001b[0m\u001b[0;34m,\u001b[0m \u001b[0;32mTrue\u001b[0m\u001b[0;34m)\u001b[0m\u001b[0;34m\u001b[0m\u001b[0m\n\u001b[0;32m---> 72\u001b[0;31m     \u001b[0;32mreturn\u001b[0m \u001b[0mrequest\u001b[0m\u001b[0;34m(\u001b[0m\u001b[0;34m'get'\u001b[0m\u001b[0;34m,\u001b[0m \u001b[0murl\u001b[0m\u001b[0;34m,\u001b[0m \u001b[0mparams\u001b[0m\u001b[0;34m=\u001b[0m\u001b[0mparams\u001b[0m\u001b[0;34m,\u001b[0m \u001b[0;34m**\u001b[0m\u001b[0mkwargs\u001b[0m\u001b[0;34m)\u001b[0m\u001b[0;34m\u001b[0m\u001b[0m\n\u001b[0m\u001b[1;32m     73\u001b[0m \u001b[0;34m\u001b[0m\u001b[0m\n\u001b[1;32m     74\u001b[0m \u001b[0;34m\u001b[0m\u001b[0m\n",
      "\u001b[0;32m/Library/Frameworks/Python.framework/Versions/3.6/lib/python3.6/site-packages/requests/api.py\u001b[0m in \u001b[0;36mrequest\u001b[0;34m(method, url, **kwargs)\u001b[0m\n\u001b[1;32m     56\u001b[0m     \u001b[0;31m# cases, and look like a memory leak in others.\u001b[0m\u001b[0;34m\u001b[0m\u001b[0;34m\u001b[0m\u001b[0m\n\u001b[1;32m     57\u001b[0m     \u001b[0;32mwith\u001b[0m \u001b[0msessions\u001b[0m\u001b[0;34m.\u001b[0m\u001b[0mSession\u001b[0m\u001b[0;34m(\u001b[0m\u001b[0;34m)\u001b[0m \u001b[0;32mas\u001b[0m \u001b[0msession\u001b[0m\u001b[0;34m:\u001b[0m\u001b[0;34m\u001b[0m\u001b[0m\n\u001b[0;32m---> 58\u001b[0;31m         \u001b[0;32mreturn\u001b[0m \u001b[0msession\u001b[0m\u001b[0;34m.\u001b[0m\u001b[0mrequest\u001b[0m\u001b[0;34m(\u001b[0m\u001b[0mmethod\u001b[0m\u001b[0;34m=\u001b[0m\u001b[0mmethod\u001b[0m\u001b[0;34m,\u001b[0m \u001b[0murl\u001b[0m\u001b[0;34m=\u001b[0m\u001b[0murl\u001b[0m\u001b[0;34m,\u001b[0m \u001b[0;34m**\u001b[0m\u001b[0mkwargs\u001b[0m\u001b[0;34m)\u001b[0m\u001b[0;34m\u001b[0m\u001b[0m\n\u001b[0m\u001b[1;32m     59\u001b[0m \u001b[0;34m\u001b[0m\u001b[0m\n\u001b[1;32m     60\u001b[0m \u001b[0;34m\u001b[0m\u001b[0m\n",
      "\u001b[0;32m/Library/Frameworks/Python.framework/Versions/3.6/lib/python3.6/site-packages/requests/sessions.py\u001b[0m in \u001b[0;36mrequest\u001b[0;34m(self, method, url, params, data, headers, cookies, files, auth, timeout, allow_redirects, proxies, hooks, stream, verify, cert, json)\u001b[0m\n\u001b[1;32m    510\u001b[0m         }\n\u001b[1;32m    511\u001b[0m         \u001b[0msend_kwargs\u001b[0m\u001b[0;34m.\u001b[0m\u001b[0mupdate\u001b[0m\u001b[0;34m(\u001b[0m\u001b[0msettings\u001b[0m\u001b[0;34m)\u001b[0m\u001b[0;34m\u001b[0m\u001b[0m\n\u001b[0;32m--> 512\u001b[0;31m         \u001b[0mresp\u001b[0m \u001b[0;34m=\u001b[0m \u001b[0mself\u001b[0m\u001b[0;34m.\u001b[0m\u001b[0msend\u001b[0m\u001b[0;34m(\u001b[0m\u001b[0mprep\u001b[0m\u001b[0;34m,\u001b[0m \u001b[0;34m**\u001b[0m\u001b[0msend_kwargs\u001b[0m\u001b[0;34m)\u001b[0m\u001b[0;34m\u001b[0m\u001b[0m\n\u001b[0m\u001b[1;32m    513\u001b[0m \u001b[0;34m\u001b[0m\u001b[0m\n\u001b[1;32m    514\u001b[0m         \u001b[0;32mreturn\u001b[0m \u001b[0mresp\u001b[0m\u001b[0;34m\u001b[0m\u001b[0m\n",
      "\u001b[0;32m/Library/Frameworks/Python.framework/Versions/3.6/lib/python3.6/site-packages/requests/sessions.py\u001b[0m in \u001b[0;36msend\u001b[0;34m(self, request, **kwargs)\u001b[0m\n\u001b[1;32m    620\u001b[0m \u001b[0;34m\u001b[0m\u001b[0m\n\u001b[1;32m    621\u001b[0m         \u001b[0;31m# Send the request\u001b[0m\u001b[0;34m\u001b[0m\u001b[0;34m\u001b[0m\u001b[0m\n\u001b[0;32m--> 622\u001b[0;31m         \u001b[0mr\u001b[0m \u001b[0;34m=\u001b[0m \u001b[0madapter\u001b[0m\u001b[0;34m.\u001b[0m\u001b[0msend\u001b[0m\u001b[0;34m(\u001b[0m\u001b[0mrequest\u001b[0m\u001b[0;34m,\u001b[0m \u001b[0;34m**\u001b[0m\u001b[0mkwargs\u001b[0m\u001b[0;34m)\u001b[0m\u001b[0;34m\u001b[0m\u001b[0m\n\u001b[0m\u001b[1;32m    623\u001b[0m \u001b[0;34m\u001b[0m\u001b[0m\n\u001b[1;32m    624\u001b[0m         \u001b[0;31m# Total elapsed time of the request (approximately)\u001b[0m\u001b[0;34m\u001b[0m\u001b[0;34m\u001b[0m\u001b[0m\n",
      "\u001b[0;32m/Library/Frameworks/Python.framework/Versions/3.6/lib/python3.6/site-packages/requests/adapters.py\u001b[0m in \u001b[0;36msend\u001b[0;34m(self, request, stream, timeout, verify, cert, proxies)\u001b[0m\n\u001b[1;32m    443\u001b[0m                     \u001b[0mdecode_content\u001b[0m\u001b[0;34m=\u001b[0m\u001b[0;32mFalse\u001b[0m\u001b[0;34m,\u001b[0m\u001b[0;34m\u001b[0m\u001b[0m\n\u001b[1;32m    444\u001b[0m                     \u001b[0mretries\u001b[0m\u001b[0;34m=\u001b[0m\u001b[0mself\u001b[0m\u001b[0;34m.\u001b[0m\u001b[0mmax_retries\u001b[0m\u001b[0;34m,\u001b[0m\u001b[0;34m\u001b[0m\u001b[0m\n\u001b[0;32m--> 445\u001b[0;31m                     \u001b[0mtimeout\u001b[0m\u001b[0;34m=\u001b[0m\u001b[0mtimeout\u001b[0m\u001b[0;34m\u001b[0m\u001b[0m\n\u001b[0m\u001b[1;32m    446\u001b[0m                 )\n\u001b[1;32m    447\u001b[0m \u001b[0;34m\u001b[0m\u001b[0m\n",
      "\u001b[0;32m/Library/Frameworks/Python.framework/Versions/3.6/lib/python3.6/site-packages/urllib3/connectionpool.py\u001b[0m in \u001b[0;36murlopen\u001b[0;34m(self, method, url, body, headers, retries, redirect, assert_same_host, timeout, pool_timeout, release_conn, chunked, body_pos, **response_kw)\u001b[0m\n\u001b[1;32m    598\u001b[0m                                                   \u001b[0mtimeout\u001b[0m\u001b[0;34m=\u001b[0m\u001b[0mtimeout_obj\u001b[0m\u001b[0;34m,\u001b[0m\u001b[0;34m\u001b[0m\u001b[0m\n\u001b[1;32m    599\u001b[0m                                                   \u001b[0mbody\u001b[0m\u001b[0;34m=\u001b[0m\u001b[0mbody\u001b[0m\u001b[0;34m,\u001b[0m \u001b[0mheaders\u001b[0m\u001b[0;34m=\u001b[0m\u001b[0mheaders\u001b[0m\u001b[0;34m,\u001b[0m\u001b[0;34m\u001b[0m\u001b[0m\n\u001b[0;32m--> 600\u001b[0;31m                                                   chunked=chunked)\n\u001b[0m\u001b[1;32m    601\u001b[0m \u001b[0;34m\u001b[0m\u001b[0m\n\u001b[1;32m    602\u001b[0m             \u001b[0;31m# If we're going to release the connection in ``finally:``, then\u001b[0m\u001b[0;34m\u001b[0m\u001b[0;34m\u001b[0m\u001b[0m\n",
      "\u001b[0;32m/Library/Frameworks/Python.framework/Versions/3.6/lib/python3.6/site-packages/urllib3/connectionpool.py\u001b[0m in \u001b[0;36m_make_request\u001b[0;34m(self, conn, method, url, timeout, chunked, **httplib_request_kw)\u001b[0m\n\u001b[1;32m    341\u001b[0m         \u001b[0;31m# Trigger any extra validation we need to do.\u001b[0m\u001b[0;34m\u001b[0m\u001b[0;34m\u001b[0m\u001b[0m\n\u001b[1;32m    342\u001b[0m         \u001b[0;32mtry\u001b[0m\u001b[0;34m:\u001b[0m\u001b[0;34m\u001b[0m\u001b[0m\n\u001b[0;32m--> 343\u001b[0;31m             \u001b[0mself\u001b[0m\u001b[0;34m.\u001b[0m\u001b[0m_validate_conn\u001b[0m\u001b[0;34m(\u001b[0m\u001b[0mconn\u001b[0m\u001b[0;34m)\u001b[0m\u001b[0;34m\u001b[0m\u001b[0m\n\u001b[0m\u001b[1;32m    344\u001b[0m         \u001b[0;32mexcept\u001b[0m \u001b[0;34m(\u001b[0m\u001b[0mSocketTimeout\u001b[0m\u001b[0;34m,\u001b[0m \u001b[0mBaseSSLError\u001b[0m\u001b[0;34m)\u001b[0m \u001b[0;32mas\u001b[0m \u001b[0me\u001b[0m\u001b[0;34m:\u001b[0m\u001b[0;34m\u001b[0m\u001b[0m\n\u001b[1;32m    345\u001b[0m             \u001b[0;31m# Py2 raises this as a BaseSSLError, Py3 raises it as socket timeout.\u001b[0m\u001b[0;34m\u001b[0m\u001b[0;34m\u001b[0m\u001b[0m\n",
      "\u001b[0;32m/Library/Frameworks/Python.framework/Versions/3.6/lib/python3.6/site-packages/urllib3/connectionpool.py\u001b[0m in \u001b[0;36m_validate_conn\u001b[0;34m(self, conn)\u001b[0m\n\u001b[1;32m    847\u001b[0m         \u001b[0;31m# Force connect early to allow us to validate the connection.\u001b[0m\u001b[0;34m\u001b[0m\u001b[0;34m\u001b[0m\u001b[0m\n\u001b[1;32m    848\u001b[0m         \u001b[0;32mif\u001b[0m \u001b[0;32mnot\u001b[0m \u001b[0mgetattr\u001b[0m\u001b[0;34m(\u001b[0m\u001b[0mconn\u001b[0m\u001b[0;34m,\u001b[0m \u001b[0;34m'sock'\u001b[0m\u001b[0;34m,\u001b[0m \u001b[0;32mNone\u001b[0m\u001b[0;34m)\u001b[0m\u001b[0;34m:\u001b[0m  \u001b[0;31m# AppEngine might not have  `.sock`\u001b[0m\u001b[0;34m\u001b[0m\u001b[0m\n\u001b[0;32m--> 849\u001b[0;31m             \u001b[0mconn\u001b[0m\u001b[0;34m.\u001b[0m\u001b[0mconnect\u001b[0m\u001b[0;34m(\u001b[0m\u001b[0;34m)\u001b[0m\u001b[0;34m\u001b[0m\u001b[0m\n\u001b[0m\u001b[1;32m    850\u001b[0m \u001b[0;34m\u001b[0m\u001b[0m\n\u001b[1;32m    851\u001b[0m         \u001b[0;32mif\u001b[0m \u001b[0;32mnot\u001b[0m \u001b[0mconn\u001b[0m\u001b[0;34m.\u001b[0m\u001b[0mis_verified\u001b[0m\u001b[0;34m:\u001b[0m\u001b[0;34m\u001b[0m\u001b[0m\n",
      "\u001b[0;32m/Library/Frameworks/Python.framework/Versions/3.6/lib/python3.6/site-packages/urllib3/connection.py\u001b[0m in \u001b[0;36mconnect\u001b[0;34m(self)\u001b[0m\n\u001b[1;32m    354\u001b[0m             \u001b[0mca_cert_dir\u001b[0m\u001b[0;34m=\u001b[0m\u001b[0mself\u001b[0m\u001b[0;34m.\u001b[0m\u001b[0mca_cert_dir\u001b[0m\u001b[0;34m,\u001b[0m\u001b[0;34m\u001b[0m\u001b[0m\n\u001b[1;32m    355\u001b[0m             \u001b[0mserver_hostname\u001b[0m\u001b[0;34m=\u001b[0m\u001b[0mhostname\u001b[0m\u001b[0;34m,\u001b[0m\u001b[0;34m\u001b[0m\u001b[0m\n\u001b[0;32m--> 356\u001b[0;31m             ssl_context=context)\n\u001b[0m\u001b[1;32m    357\u001b[0m \u001b[0;34m\u001b[0m\u001b[0m\n\u001b[1;32m    358\u001b[0m         \u001b[0;32mif\u001b[0m \u001b[0mself\u001b[0m\u001b[0;34m.\u001b[0m\u001b[0massert_fingerprint\u001b[0m\u001b[0;34m:\u001b[0m\u001b[0;34m\u001b[0m\u001b[0m\n",
      "\u001b[0;32m/Library/Frameworks/Python.framework/Versions/3.6/lib/python3.6/site-packages/urllib3/util/ssl_.py\u001b[0m in \u001b[0;36mssl_wrap_socket\u001b[0;34m(sock, keyfile, certfile, cert_reqs, ca_certs, server_hostname, ssl_version, ciphers, ssl_context, ca_cert_dir)\u001b[0m\n\u001b[1;32m    357\u001b[0m             or IS_SECURETRANSPORT):\n\u001b[1;32m    358\u001b[0m         \u001b[0;32mif\u001b[0m \u001b[0mHAS_SNI\u001b[0m \u001b[0;32mand\u001b[0m \u001b[0mserver_hostname\u001b[0m \u001b[0;32mis\u001b[0m \u001b[0;32mnot\u001b[0m \u001b[0;32mNone\u001b[0m\u001b[0;34m:\u001b[0m\u001b[0;34m\u001b[0m\u001b[0m\n\u001b[0;32m--> 359\u001b[0;31m             \u001b[0;32mreturn\u001b[0m \u001b[0mcontext\u001b[0m\u001b[0;34m.\u001b[0m\u001b[0mwrap_socket\u001b[0m\u001b[0;34m(\u001b[0m\u001b[0msock\u001b[0m\u001b[0;34m,\u001b[0m \u001b[0mserver_hostname\u001b[0m\u001b[0;34m=\u001b[0m\u001b[0mserver_hostname\u001b[0m\u001b[0;34m)\u001b[0m\u001b[0;34m\u001b[0m\u001b[0m\n\u001b[0m\u001b[1;32m    360\u001b[0m \u001b[0;34m\u001b[0m\u001b[0m\n\u001b[1;32m    361\u001b[0m         warnings.warn(\n",
      "\u001b[0;32m/Library/Frameworks/Python.framework/Versions/3.6/lib/python3.6/ssl.py\u001b[0m in \u001b[0;36mwrap_socket\u001b[0;34m(self, sock, server_side, do_handshake_on_connect, suppress_ragged_eofs, server_hostname, session)\u001b[0m\n\u001b[1;32m    405\u001b[0m                          \u001b[0msuppress_ragged_eofs\u001b[0m\u001b[0;34m=\u001b[0m\u001b[0msuppress_ragged_eofs\u001b[0m\u001b[0;34m,\u001b[0m\u001b[0;34m\u001b[0m\u001b[0m\n\u001b[1;32m    406\u001b[0m                          \u001b[0mserver_hostname\u001b[0m\u001b[0;34m=\u001b[0m\u001b[0mserver_hostname\u001b[0m\u001b[0;34m,\u001b[0m\u001b[0;34m\u001b[0m\u001b[0m\n\u001b[0;32m--> 407\u001b[0;31m                          _context=self, _session=session)\n\u001b[0m\u001b[1;32m    408\u001b[0m \u001b[0;34m\u001b[0m\u001b[0m\n\u001b[1;32m    409\u001b[0m     def wrap_bio(self, incoming, outgoing, server_side=False,\n",
      "\u001b[0;32m/Library/Frameworks/Python.framework/Versions/3.6/lib/python3.6/ssl.py\u001b[0m in \u001b[0;36m__init__\u001b[0;34m(self, sock, keyfile, certfile, server_side, cert_reqs, ssl_version, ca_certs, do_handshake_on_connect, family, type, proto, fileno, suppress_ragged_eofs, npn_protocols, ciphers, server_hostname, _context, _session)\u001b[0m\n\u001b[1;32m    812\u001b[0m                         \u001b[0;31m# non-blocking\u001b[0m\u001b[0;34m\u001b[0m\u001b[0;34m\u001b[0m\u001b[0m\n\u001b[1;32m    813\u001b[0m                         \u001b[0;32mraise\u001b[0m \u001b[0mValueError\u001b[0m\u001b[0;34m(\u001b[0m\u001b[0;34m\"do_handshake_on_connect should not be specified for non-blocking sockets\"\u001b[0m\u001b[0;34m)\u001b[0m\u001b[0;34m\u001b[0m\u001b[0m\n\u001b[0;32m--> 814\u001b[0;31m                     \u001b[0mself\u001b[0m\u001b[0;34m.\u001b[0m\u001b[0mdo_handshake\u001b[0m\u001b[0;34m(\u001b[0m\u001b[0;34m)\u001b[0m\u001b[0;34m\u001b[0m\u001b[0m\n\u001b[0m\u001b[1;32m    815\u001b[0m \u001b[0;34m\u001b[0m\u001b[0m\n\u001b[1;32m    816\u001b[0m             \u001b[0;32mexcept\u001b[0m \u001b[0;34m(\u001b[0m\u001b[0mOSError\u001b[0m\u001b[0;34m,\u001b[0m \u001b[0mValueError\u001b[0m\u001b[0;34m)\u001b[0m\u001b[0;34m:\u001b[0m\u001b[0;34m\u001b[0m\u001b[0m\n",
      "\u001b[0;32m/Library/Frameworks/Python.framework/Versions/3.6/lib/python3.6/ssl.py\u001b[0m in \u001b[0;36mdo_handshake\u001b[0;34m(self, block)\u001b[0m\n\u001b[1;32m   1066\u001b[0m             \u001b[0;32mif\u001b[0m \u001b[0mtimeout\u001b[0m \u001b[0;34m==\u001b[0m \u001b[0;36m0.0\u001b[0m \u001b[0;32mand\u001b[0m \u001b[0mblock\u001b[0m\u001b[0;34m:\u001b[0m\u001b[0;34m\u001b[0m\u001b[0m\n\u001b[1;32m   1067\u001b[0m                 \u001b[0mself\u001b[0m\u001b[0;34m.\u001b[0m\u001b[0msettimeout\u001b[0m\u001b[0;34m(\u001b[0m\u001b[0;32mNone\u001b[0m\u001b[0;34m)\u001b[0m\u001b[0;34m\u001b[0m\u001b[0m\n\u001b[0;32m-> 1068\u001b[0;31m             \u001b[0mself\u001b[0m\u001b[0;34m.\u001b[0m\u001b[0m_sslobj\u001b[0m\u001b[0;34m.\u001b[0m\u001b[0mdo_handshake\u001b[0m\u001b[0;34m(\u001b[0m\u001b[0;34m)\u001b[0m\u001b[0;34m\u001b[0m\u001b[0m\n\u001b[0m\u001b[1;32m   1069\u001b[0m         \u001b[0;32mfinally\u001b[0m\u001b[0;34m:\u001b[0m\u001b[0;34m\u001b[0m\u001b[0m\n\u001b[1;32m   1070\u001b[0m             \u001b[0mself\u001b[0m\u001b[0;34m.\u001b[0m\u001b[0msettimeout\u001b[0m\u001b[0;34m(\u001b[0m\u001b[0mtimeout\u001b[0m\u001b[0;34m)\u001b[0m\u001b[0;34m\u001b[0m\u001b[0m\n",
      "\u001b[0;32m/Library/Frameworks/Python.framework/Versions/3.6/lib/python3.6/ssl.py\u001b[0m in \u001b[0;36mdo_handshake\u001b[0;34m(self)\u001b[0m\n\u001b[1;32m    687\u001b[0m     \u001b[0;32mdef\u001b[0m \u001b[0mdo_handshake\u001b[0m\u001b[0;34m(\u001b[0m\u001b[0mself\u001b[0m\u001b[0;34m)\u001b[0m\u001b[0;34m:\u001b[0m\u001b[0;34m\u001b[0m\u001b[0m\n\u001b[1;32m    688\u001b[0m         \u001b[0;34m\"\"\"Start the SSL/TLS handshake.\"\"\"\u001b[0m\u001b[0;34m\u001b[0m\u001b[0m\n\u001b[0;32m--> 689\u001b[0;31m         \u001b[0mself\u001b[0m\u001b[0;34m.\u001b[0m\u001b[0m_sslobj\u001b[0m\u001b[0;34m.\u001b[0m\u001b[0mdo_handshake\u001b[0m\u001b[0;34m(\u001b[0m\u001b[0;34m)\u001b[0m\u001b[0;34m\u001b[0m\u001b[0m\n\u001b[0m\u001b[1;32m    690\u001b[0m         \u001b[0;32mif\u001b[0m \u001b[0mself\u001b[0m\u001b[0;34m.\u001b[0m\u001b[0mcontext\u001b[0m\u001b[0;34m.\u001b[0m\u001b[0mcheck_hostname\u001b[0m\u001b[0;34m:\u001b[0m\u001b[0;34m\u001b[0m\u001b[0m\n\u001b[1;32m    691\u001b[0m             \u001b[0;32mif\u001b[0m \u001b[0;32mnot\u001b[0m \u001b[0mself\u001b[0m\u001b[0;34m.\u001b[0m\u001b[0mserver_hostname\u001b[0m\u001b[0;34m:\u001b[0m\u001b[0;34m\u001b[0m\u001b[0m\n",
      "\u001b[0;31mKeyboardInterrupt\u001b[0m: "
     ]
    }
   ],
   "source": [
    "\n",
    "counties = county_data['County']\n",
    "county_seats = county_data['County Seat']\n",
    "dict_of_dicts = {}\n",
    "for county, seat in zip(counties, county_seats):\n",
    "    current_dict = {}\n",
    "    url = \"\"\"https://api.foursquare.com/v2/venues/search?categoryId=4d4b7105d754a06374d81259\n",
    "&client_id={}&client_secret={}&v={}&near={}&radius={}&limit={}\"\"\".format(\n",
    "            CLIENT_ID, \n",
    "            CLIENT_SECRET, \n",
    "            VERSION, \n",
    "            seat+\", CA\",\n",
    "            RADIUS, \n",
    "            LIMIT)\n",
    "    results = requests.get(url)\n",
    "    \n",
    "    for restaurant in results.json()['response']['venues']:\n",
    "        resturant_dict = {}\n",
    "        resturant_dict['id'] = restaurant['id']\n",
    "        resturant_dict['loc'] = restaurant['location']\n",
    "        resturant_dict['cat'] = restaurant['categories']\n",
    "        current_dict[restaurant['name']] = resturant_dict\n",
    "    dict_of_dicts[county] = current_dict\n",
    "    \n",
    "    print(county)"
   ]
  },
  {
   "cell_type": "code",
   "execution_count": 328,
   "metadata": {},
   "outputs": [],
   "source": [
    "#with open('basic_restaurant_data.json', 'w') as outfile:\n",
    "#    json.dump(dict_of_dicts, outfile)"
   ]
  },
  {
   "cell_type": "markdown",
   "metadata": {},
   "source": [
    "# Getting Premium Data "
   ]
  },
  {
   "cell_type": "code",
   "execution_count": 2,
   "metadata": {},
   "outputs": [],
   "source": [
    "with open('basic_restaurant_data.json') as f:\n",
    "    restaurant_location_data = json.load(f)"
   ]
  },
  {
   "cell_type": "code",
   "execution_count": 3,
   "metadata": {},
   "outputs": [],
   "source": [
    "num_per_county = [len(restaurant_location_data[i].keys()) \n",
    "                  for i in restaurant_location_data.keys()]\n",
    "counties = list(restaurant_location_data.keys())"
   ]
  },
  {
   "cell_type": "code",
   "execution_count": 4,
   "metadata": {},
   "outputs": [
    {
     "data": {
      "text/plain": [
       "[51, 52, 53, 54, 55, 56, 57]"
      ]
     },
     "execution_count": 4,
     "metadata": {},
     "output_type": "execute_result"
    }
   ],
   "source": [
    "tf_list_500 = np.cumsum(num_per_county) < 500\n",
    "tf_list_1000 = ((500 <= np.cumsum(num_per_county)) & (np.cumsum(num_per_county) < 1000))\n",
    "tf_list_1500 = ((1000 <= np.cumsum(num_per_county)) & (np.cumsum(num_per_county) < 1500))\n",
    "tf_list_2000 = (1500 <= np.cumsum(num_per_county)) & (np.cumsum(num_per_county) < 2000)\n",
    "tf_list_2500 = ((2000 <= np.cumsum(num_per_county)) & (np.cumsum(num_per_county) < 2500))\n",
    "[i for i, x in enumerate(tf_list_2500 ) if x]"
   ]
  },
  {
   "cell_type": "code",
   "execution_count": 5,
   "metadata": {},
   "outputs": [
    {
     "data": {
      "text/plain": [
       "{'Alameda': 43,\n",
       " 'Alpine': 5,\n",
       " 'Amador': 49,\n",
       " 'Butte': 49,\n",
       " 'Calaveras': 20,\n",
       " 'Colusa': 45,\n",
       " 'Contra Costa': 46,\n",
       " 'Del Norte': 48,\n",
       " 'El Dorado': 47,\n",
       " 'Fresno': 36,\n",
       " 'Glenn': 34,\n",
       " 'Humboldt': 48,\n",
       " 'Imperial': 39,\n",
       " 'Inyo': 9,\n",
       " 'Kern': 44,\n",
       " 'Kings': 44,\n",
       " 'Lake': 50,\n",
       " 'Lassen': 48,\n",
       " 'Los Angeles': 48,\n",
       " 'Madera': 43,\n",
       " 'Marin': 44,\n",
       " 'Mariposa': 30,\n",
       " 'Mendocino': 47,\n",
       " 'Merced': 43,\n",
       " 'Modoc': 32,\n",
       " 'Mono': 11,\n",
       " 'Monterey': 41,\n",
       " 'Napa': 46,\n",
       " 'Nevada': 49,\n",
       " 'Orange': 34,\n",
       " 'Placer': 47,\n",
       " 'Plumas': 30,\n",
       " 'Riverside': 39,\n",
       " 'Sacramento': 40,\n",
       " 'San Benito': 47,\n",
       " 'San Bernardino': 34,\n",
       " 'San Diego': 43,\n",
       " 'San Francisco': 41,\n",
       " 'San Joaquin': 40,\n",
       " 'San Luis Obispo': 48,\n",
       " 'San Mateo': 40,\n",
       " 'Santa Barbara': 42,\n",
       " 'Santa Clara': 43,\n",
       " 'Santa Cruz': 45,\n",
       " 'Shasta': 41,\n",
       " 'Sierra': 3,\n",
       " 'Siskiyou': 47,\n",
       " 'Solano': 40,\n",
       " 'Sonoma': 42,\n",
       " 'Stanislaus': 34,\n",
       " 'Sutter': 40,\n",
       " 'Tehama': 46,\n",
       " 'Trinity': 22,\n",
       " 'Tulare': 40,\n",
       " 'Tuolumne': 47,\n",
       " 'Ventura': 46,\n",
       " 'Yolo': 42,\n",
       " 'Yuba': 41}"
      ]
     },
     "execution_count": 5,
     "metadata": {},
     "output_type": "execute_result"
    }
   ],
   "source": [
    "np.cumsum(num_per_county)\n",
    "dict_of_num_rests = dict(zip(counties, num_per_county))\n",
    "dict_of_num_rests"
   ]
  },
  {
   "cell_type": "code",
   "execution_count": 418,
   "metadata": {},
   "outputs": [],
   "source": [
    "## first set: 0-11\n",
    "\n",
    "## second set: 12-24\n",
    "## second set: 25-37\n",
    "## third set: 38-50\n",
    "## fourth set: 51-57\n",
    "\n",
    "### Counties you still need to pull:\n",
    "## MODOC!! \n",
    "\n",
    "url = \"\"\"https://api.foursquare.com/v2/venues/{}?\n",
    "&client_id={}&client_secret={}&v={}\"\"\".format(VENUE_ID, CLIENT_ID, CLIENT_SECRET, \n",
    "VERSION)\n",
    "results = requests.get(url)"
   ]
  },
  {
   "cell_type": "code",
   "execution_count": 6,
   "metadata": {},
   "outputs": [],
   "source": [
    "def get_restaurant_ids(restaurant_list):\n",
    "    \n",
    "    restaurant_ids = []\n",
    "    \n",
    "    restaurant_names = restaurant_list.keys()\n",
    "    \n",
    "    for restaurant in restaurant_names:\n",
    "        \n",
    "        restaurant_ids.append(restaurant_list[restaurant]['id'])\n",
    "        \n",
    "    return(restaurant_ids)\n"
   ]
  },
  {
   "cell_type": "code",
   "execution_count": 16,
   "metadata": {},
   "outputs": [
    {
     "name": "stdout",
     "output_type": "stream",
     "text": [
      "Modoc\n"
     ]
    }
   ],
   "source": [
    "## first set: 0-12\n",
    "## second set: 12-24\n",
    "## third set: 24-37\n",
    "## fourth set: 37-49\n",
    "## fifth set: 49-58\n",
    "counties_day_1 = ['Modoc']\n",
    "CLIENT_ID = 'YUU0NVDSIOGUCYMC0B0ICX50TC1Z1B0X3VVZLQKCLGQLHDY2' # your Foursquare ID\n",
    "CLIENT_SECRET = 'T1PRGFNN21DILJN4G5DCHD30RWT5FK02Z4SXV0ZJNWFD5W25' # your Foursquare Secret\n",
    "VERSION = '20180605' # Foursquare API version\n",
    "dict_of_dicts_details = {}\n",
    "for county in counties_day_1:\n",
    "    restaurant_ids = get_restaurant_ids(restaurant_location_data[county])\n",
    "    current_dict = {}\n",
    "    for restaurant_id in restaurant_ids:\n",
    "        resturant_dict = {}\n",
    "        url = \"\"\"https://api.foursquare.com/v2/venues/{}?\n",
    "     &client_id={}&client_secret={}&v={}\"\"\".format(restaurant_id, CLIENT_ID, CLIENT_SECRET, \n",
    "     VERSION)\n",
    "        results = requests.get(url)  \n",
    "        \n",
    "        if results.json()['meta']['code'] == 429:\n",
    "\n",
    "            break\n",
    "        \n",
    "        restaurant = results.json()['response']['venue']\n",
    "        \n",
    "        \n",
    "        try: \n",
    "            resturant_dict[\"id\"] = restaurant['id']\n",
    "        except: \n",
    "            resturant_dict[\"id\"] = None\n",
    "        \n",
    "        try:\n",
    "            resturant_dict[\"price\"] =restaurant['price']\n",
    "        except:\n",
    "            resturant_dict[\"price\"] = None\n",
    "        try: \n",
    "            resturant_dict[\"rating\"] = restaurant['rating']\n",
    "        except: \n",
    "            resturant_dict[\"rating\"] = None\n",
    "            \n",
    "        current_dict[restaurant['name']] = resturant_dict\n",
    "    if results.json()['meta']['code'] == 429:\n",
    "            \n",
    "            print(\"Quota Exceeded, try Later.\")\n",
    "            break\n",
    "            \n",
    "    dict_of_dicts_details[county] = current_dict\n",
    "    print(county)"
   ]
  },
  {
   "cell_type": "code",
   "execution_count": 17,
   "metadata": {},
   "outputs": [
    {
     "data": {
      "text/plain": [
       "['Modoc']"
      ]
     },
     "execution_count": 17,
     "metadata": {},
     "output_type": "execute_result"
    }
   ],
   "source": [
    "list(dict_of_dicts_details.keys())"
   ]
  },
  {
   "cell_type": "code",
   "execution_count": 9,
   "metadata": {},
   "outputs": [
    {
     "data": {
      "text/plain": [
       "['Stanislaus',\n",
       " 'Sutter',\n",
       " 'Tehama',\n",
       " 'Trinity',\n",
       " 'Tulare',\n",
       " 'Tuolumne',\n",
       " 'Ventura',\n",
       " 'Yolo',\n",
       " 'Yuba']"
      ]
     },
     "execution_count": 9,
     "metadata": {},
     "output_type": "execute_result"
    }
   ],
   "source": [
    "counties[49:58]"
   ]
  },
  {
   "cell_type": "code",
   "execution_count": 18,
   "metadata": {},
   "outputs": [
    {
     "data": {
      "text/plain": [
       "{'Modoc': {'Donut Shop': {'id': '4f32609b19836c91c7d1d3d2',\n",
       "   'price': {'tier': 1, 'message': 'Cheap', 'currency': '$'},\n",
       "   'rating': None},\n",
       "  'El Agave Azul': {'id': '4e666364aeb77c17bf3124f5',\n",
       "   'price': {'tier': 1, 'message': 'Cheap', 'currency': '$'},\n",
       "   'rating': None},\n",
       "  'Main Street Family Diner': {'id': '4c793dac81bca0936b9cfc14',\n",
       "   'price': {'tier': 1, 'message': 'Cheap', 'currency': '$'},\n",
       "   'rating': None},\n",
       "  \"Gil's Burger Stop\": {'id': '4f43672d19834bc91f56928c',\n",
       "   'price': None,\n",
       "   'rating': None},\n",
       "  'Twin Panda Restaurant': {'id': '4f327a3d19836c91c7dba5b8',\n",
       "   'price': None,\n",
       "   'rating': None},\n",
       "  'El Aguila Real': {'id': '4c154b4477cea59350ffd160',\n",
       "   'price': {'tier': 1, 'message': 'Cheap', 'currency': '$'},\n",
       "   'rating': None},\n",
       "  'Beacon Restaurant': {'id': '4f443ef019836ed001931055',\n",
       "   'price': None,\n",
       "   'rating': None},\n",
       "  \"Rubio's Taqueria\": {'id': '5acd00242db4a9035f317ae8',\n",
       "   'price': {'tier': 1, 'message': 'Cheap', 'currency': '$'},\n",
       "   'rating': None},\n",
       "  \"Antonoio's Cucina Italiana\": {'id': '4c425fc8ff711b8d1e821305',\n",
       "   'price': {'tier': 2, 'message': 'Moderate', 'currency': '$'},\n",
       "   'rating': 6.9},\n",
       "  \"Harold's Frosty\": {'id': '4c376f0093db0f47bec61f92',\n",
       "   'price': {'tier': 1, 'message': 'Cheap', 'currency': '$'},\n",
       "   'rating': 6.7},\n",
       "  'China Gourmet': {'id': '4c6c87771fb2a1438ce4fbe6',\n",
       "   'price': {'tier': 1, 'message': 'Cheap', 'currency': '$'},\n",
       "   'rating': None},\n",
       "  'Lazy B Grill': {'id': '4f0b4b84e4b0ef60f06f854a',\n",
       "   'price': {'tier': 1, 'message': 'Cheap', 'currency': '$'},\n",
       "   'rating': None},\n",
       "  'Niles Coffee Company': {'id': '4ef24b999a52fadb33572ab6',\n",
       "   'price': {'tier': 1, 'message': 'Cheap', 'currency': '$'},\n",
       "   'rating': None},\n",
       "  'Subway': {'id': '4cf2d5151d18a14389825cec',\n",
       "   'price': {'tier': 1, 'message': 'Cheap', 'currency': '$'},\n",
       "   'rating': 6.6},\n",
       "  'Wagon Wheel Restaurant': {'id': '4c7bc9df3badb1f7e3d65554',\n",
       "   'price': {'tier': 2, 'message': 'Moderate', 'currency': '$'},\n",
       "   'rating': 7.0},\n",
       "  'Auction Yard Cafe': {'id': '4e3434aac65bdb4c7a05c892',\n",
       "   'price': {'tier': 1, 'message': 'Cheap', 'currency': '$'},\n",
       "   'rating': None},\n",
       "  'Country Cafe': {'id': '526403d411d2f438e9e5f259',\n",
       "   'price': {'tier': 1, 'message': 'Cheap', 'currency': '$'},\n",
       "   'rating': None},\n",
       "  'Crossroads Grill': {'id': '4c3cc26fb36ac928208d0486',\n",
       "   'price': {'tier': 1, 'message': 'Cheap', 'currency': '$'},\n",
       "   'rating': None},\n",
       "  'Los Amigos Family Restaurant': {'id': '4f32646519836c91c7d34e75',\n",
       "   'price': None,\n",
       "   'rating': None},\n",
       "  \"Marpita's Restaurant\": {'id': '4f320d6419833175d60bc1d0',\n",
       "   'price': None,\n",
       "   'rating': None},\n",
       "  'Black Bear Diner': {'id': '4e4e2ecebd4101d0d7a42b89',\n",
       "   'price': {'tier': 1, 'message': 'Cheap', 'currency': '$'},\n",
       "   'rating': None},\n",
       "  'Corner Deli': {'id': '4f32154519836c91c7b40f6e',\n",
       "   'price': None,\n",
       "   'rating': None},\n",
       "  'Bear Paw Coffee Company': {'id': '4e66a125c65be127ee9378ff',\n",
       "   'price': {'tier': 1, 'message': 'Cheap', 'currency': '$'},\n",
       "   'rating': None},\n",
       "  'Pizza and Pasta Place': {'id': '4f32879819836c91c7e0c189',\n",
       "   'price': {'tier': 1, 'message': 'Cheap', 'currency': '$'},\n",
       "   'rating': None},\n",
       "  \"Peña's Mexican Grill\": {'id': '565a18c5498ee7d709092425',\n",
       "   'price': {'tier': 1, 'message': 'Cheap', 'currency': '$'},\n",
       "   'rating': None},\n",
       "  'Taco Truck': {'id': '51928c35498ef1f5e8e65618',\n",
       "   'price': {'tier': 1, 'message': 'Cheap', 'currency': '$'},\n",
       "   'rating': None},\n",
       "  'Normas Taqueria': {'id': '4f3216de19836c91c7b4b3a4',\n",
       "   'price': None,\n",
       "   'rating': None},\n",
       "  'The Munch Box': {'id': '4c17edc2d4d9c9282dadee29',\n",
       "   'price': {'tier': 2, 'message': 'Moderate', 'currency': '$'},\n",
       "   'rating': None},\n",
       "  'King Wah': {'id': '4f43d4fa19836ed00190da53',\n",
       "   'price': None,\n",
       "   'rating': None},\n",
       "  \"Nacho's\": {'id': '53153f54498e4fe2af4a5f5c',\n",
       "   'price': {'tier': 1, 'message': 'Cheap', 'currency': '$'},\n",
       "   'rating': None},\n",
       "  'The Brass Rail Restaurant & Lounge': {'id': '4ba3dd63f964a520fd6738e3',\n",
       "   'price': {'tier': 2, 'message': 'Moderate', 'currency': '$'},\n",
       "   'rating': None},\n",
       "  'Pepsi Cola Alturas': {'id': '4f322b7819836c91c7bd0a58',\n",
       "   'price': None,\n",
       "   'rating': None}}}"
      ]
     },
     "execution_count": 18,
     "metadata": {},
     "output_type": "execute_result"
    }
   ],
   "source": [
    "\n",
    "\n",
    "how_many_per_county = [len(dict_of_dicts_details[i].keys()) for i in \n",
    "                       dict_of_dicts_details.keys()]\n",
    "\n",
    "dict(zip(counties[49:58],how_many_per_county))\n",
    "\n",
    "dict_of_dicts_details"
   ]
  },
  {
   "cell_type": "code",
   "execution_count": 19,
   "metadata": {},
   "outputs": [],
   "source": [
    "### WHEN RUNNING, REMEMBER TO CHANGE NAME BECAUSE DIFFERENT DAY \n",
    "\n",
    "with open('detailed_restaurant_data_modoc.json', 'w') as outfile:\n",
    "    json.dump(dict_of_dicts_details, outfile)\n",
    "#dict_of_num_rests"
   ]
  },
  {
   "cell_type": "code",
   "execution_count": 35,
   "metadata": {},
   "outputs": [
    {
     "data": {
      "text/plain": [
       "{\"Maria's Burger Bar\": {'id': '56d232f1cd109e7f91d67363',\n",
       "  'price': {'tier': 1, 'message': 'Cheap', 'currency': '$'},\n",
       "  'rating': None},\n",
       " 'Carniceria Y Taqueria Mexico': {'id': '4cf6a61f1cfea093b7c6e039',\n",
       "  'price': {'tier': 1, 'message': 'Cheap', 'currency': '$'},\n",
       "  'rating': 7.2},\n",
       " 'Kebab Grill': {'id': '4c2558b8136d20a1ca80e361',\n",
       "  'price': {'tier': 1, 'message': 'Cheap', 'currency': '$'},\n",
       "  'rating': 7.0},\n",
       " 'Burrito King Mexican Restaurant': {'id': '4c72e2566b91b71302fef620',\n",
       "  'price': {'tier': 1, 'message': 'Cheap', 'currency': '$'},\n",
       "  'rating': 5.6},\n",
       " 'Phodera': {'id': '4fcfdcfee4b0b14861582ecc',\n",
       "  'price': {'tier': 2, 'message': 'Moderate', 'currency': '$'},\n",
       "  'rating': 8.0},\n",
       " \"DiCicco's\": {'id': '4b9bf5d8f964a520c73a36e3',\n",
       "  'price': {'tier': 2, 'message': 'Moderate', 'currency': '$'},\n",
       "  'rating': 8.6},\n",
       " \"Cool Hand Luke's\": {'id': '4c0d71537189c9283d03d7b6',\n",
       "  'price': {'tier': 4, 'message': 'Very Expensive', 'currency': '$'},\n",
       "  'rating': 6.5},\n",
       " 'Cazadores Bar And Grill': {'id': '4c1d7386fcf8c9b659deab0b',\n",
       "  'price': {'tier': 1, 'message': 'Cheap', 'currency': '$'},\n",
       "  'rating': 6.4},\n",
       " 'The Vineyard Restaurant': {'id': '4b760724f964a5209c372ee3',\n",
       "  'price': {'tier': 2, 'message': 'Moderate', 'currency': '$'},\n",
       "  'rating': 8.3},\n",
       " 'Liu’s Village Madera': {'id': '5a9866280802d4606ce83a0b',\n",
       "  'price': None,\n",
       "  'rating': None},\n",
       " 'The Tap House': {'id': '5981f464029a552c44df99df',\n",
       "  'price': {'tier': 2, 'message': 'Moderate', 'currency': '$'},\n",
       "  'rating': None},\n",
       " \"Gabriella's\": {'id': '52e56008498ee4d3e2f209cc',\n",
       "  'price': {'tier': 2, 'message': 'Moderate', 'currency': '$'},\n",
       "  'rating': None},\n",
       " 'Mejia Taco Shop': {'id': '4f324b6b19836c91c7c98fae',\n",
       "  'price': None,\n",
       "  'rating': None},\n",
       " 'KFC': {'id': '4c2fb16ded37a59389c06703',\n",
       "  'price': {'tier': 1, 'message': 'Cheap', 'currency': '$'},\n",
       "  'rating': 5.8},\n",
       " 'China Kitchen': {'id': '4bd5f3decfa7b71307bf26da',\n",
       "  'price': {'tier': 1, 'message': 'Cheap', 'currency': '$'},\n",
       "  'rating': None},\n",
       " 'Baskin Robins': {'id': '4df81ef7d4c02ad73417e5ce',\n",
       "  'price': {'tier': 1, 'message': 'Cheap', 'currency': '$'},\n",
       "  'rating': 7.2},\n",
       " \"Carl's Jr. / Green Burrito\": {'id': '4b820db6f964a5202ec930e3',\n",
       "  'price': {'tier': 1, 'message': 'Cheap', 'currency': '$'},\n",
       "  'rating': 6.3},\n",
       " 'Panda Express': {'id': '4b82fe94f964a52087f130e3',\n",
       "  'price': {'tier': 1, 'message': 'Cheap', 'currency': '$'},\n",
       "  'rating': 7.1},\n",
       " 'Taco Express': {'id': '59459274ca18ea4a75c7badf',\n",
       "  'price': {'tier': 1, 'message': 'Cheap', 'currency': '$'},\n",
       "  'rating': None},\n",
       " 'Round Table Pizza': {'id': '4c12a04da1010f475b344918',\n",
       "  'price': {'tier': 1, 'message': 'Cheap', 'currency': '$'},\n",
       "  'rating': 7.4},\n",
       " 'Subway': {'id': '4ba7d5c0f964a52090b739e3',\n",
       "  'price': {'tier': 1, 'message': 'Cheap', 'currency': '$'},\n",
       "  'rating': 6.5},\n",
       " 'Chavinda Taqueria': {'id': '4f3243a219836c91c7c67165',\n",
       "  'price': {'tier': 1, 'message': 'Cheap', 'currency': '$'},\n",
       "  'rating': None},\n",
       " 'Jack in the Box': {'id': '4bb5a8bc2f70c9b65b6e8430',\n",
       "  'price': {'tier': 1, 'message': 'Cheap', 'currency': '$'},\n",
       "  'rating': 5.7},\n",
       " 'SONIC Drive In': {'id': '4bf0622124f020a19f0c684f',\n",
       "  'price': {'tier': 1, 'message': 'Cheap', 'currency': '$'},\n",
       "  'rating': 6.8},\n",
       " \"McDonald's\": {'id': '4c05636e5753c928136839f1',\n",
       "  'price': {'tier': 1, 'message': 'Cheap', 'currency': '$'},\n",
       "  'rating': 5.9},\n",
       " \"Rally's\": {'id': '4b830aa1f964a52024f430e3',\n",
       "  'price': {'tier': 1, 'message': 'Cheap', 'currency': '$'},\n",
       "  'rating': 6.8},\n",
       " 'El Amigo Tacos y Mariscos': {'id': '4c0ac7a06071a5939a36e032',\n",
       "  'price': {'tier': 1, 'message': 'Cheap', 'currency': '$'},\n",
       "  'rating': None},\n",
       " \"Jimmy John's\": {'id': '5707305f498ef6461e373648',\n",
       "  'price': {'tier': 1, 'message': 'Cheap', 'currency': '$'},\n",
       "  'rating': 7.0},\n",
       " \"Mejia's Taqueria Y Mariscos\": {'id': '53f0f90d498e3f989ea0b734',\n",
       "  'price': {'tier': 1, 'message': 'Cheap', 'currency': '$'},\n",
       "  'rating': None},\n",
       " 'Deli Delicious': {'id': '5260a3e411d244d5b6f3031d',\n",
       "  'price': {'tier': 1, 'message': 'Cheap', 'currency': '$'},\n",
       "  'rating': 7.6},\n",
       " 'Shell': {'id': '4f42b324d4f2dd374e48611e', 'price': None, 'rating': 5.8},\n",
       " \"Sal's\": {'id': '4b9fd83df964a520fd4337e3',\n",
       "  'price': {'tier': 1, 'message': 'Cheap', 'currency': '$'},\n",
       "  'rating': 8.9},\n",
       " 'Black Bear Diner': {'id': '5490adc9498e87dd3e30529d',\n",
       "  'price': {'tier': 2, 'message': 'Moderate', 'currency': '$'},\n",
       "  'rating': 8.0},\n",
       " \"Chase's Chop Shop\": {'id': '506df495e4b03004ffd9a9fd',\n",
       "  'price': {'tier': 2, 'message': 'Moderate', 'currency': '$'},\n",
       "  'rating': None},\n",
       " 'Starbucks': {'id': '4b957081f964a520aaa234e3',\n",
       "  'price': {'tier': 1, 'message': 'Cheap', 'currency': '$'},\n",
       "  'rating': 8.4},\n",
       " 'Perkos': {'id': '4bf2b65f55c7c9b641656204',\n",
       "  'price': {'tier': 2, 'message': 'Moderate', 'currency': '$'},\n",
       "  'rating': 5.7},\n",
       " 'Burger King': {'id': '4b901884f964a520467533e3',\n",
       "  'price': {'tier': 1, 'message': 'Cheap', 'currency': '$'},\n",
       "  'rating': 5.8},\n",
       " 'IHOP': {'id': '4b8475e6f964a520d63631e3',\n",
       "  'price': {'tier': 1, 'message': 'Cheap', 'currency': '$'},\n",
       "  'rating': 6.5},\n",
       " 'Mejia Taqueria Y Mariscos': {'id': '4e5eebbdfa768fe5f2ceeaa6',\n",
       "  'price': {'tier': 1, 'message': 'Cheap', 'currency': '$'},\n",
       "  'rating': None},\n",
       " 'Taco Bell': {'id': '4caf7c0075ebb60c209ebcad',\n",
       "  'price': {'tier': 1, 'message': 'Cheap', 'currency': '$'},\n",
       "  'rating': 6.1},\n",
       " 'Players Smoked BBQ': {'id': '51e06133498efa9d7be98bf4',\n",
       "  'price': {'tier': 2, 'message': 'Moderate', 'currency': '$'},\n",
       "  'rating': 7.1},\n",
       " \"Carl's Jr.\": {'id': '4ce71cc1d99f721eb61ba873',\n",
       "  'price': {'tier': 1, 'message': 'Cheap', 'currency': '$'},\n",
       "  'rating': 6.4},\n",
       " 'Country Waffles': {'id': '4c1e62d28b3aa59366fd9b5f',\n",
       "  'price': {'tier': 1, 'message': 'Cheap', 'currency': '$'},\n",
       "  'rating': None}}"
      ]
     },
     "execution_count": 35,
     "metadata": {},
     "output_type": "execute_result"
    }
   ],
   "source": [
    "dict_of_dicts_details.keys()\n",
    "\n",
    "dict_of_dicts_details['Madera']"
   ]
  },
  {
   "cell_type": "code",
   "execution_count": null,
   "metadata": {},
   "outputs": [],
   "source": [
    "## geojson for all California counties\n",
    "## http://s3-us-west-2.amazonaws.com/boundaries.latimes.com/archive/1.0/boundary-set/counties-2012.geojson\n",
    "## Basic county data (with centroids): https://en.wikipedia.org/wiki/User:Michael_J/County_table\n",
    "\n",
    "\n",
    "## Subdivisions: \n",
    "## http://s3-us-west-2.amazonaws.com/boundaries.latimes.com/archive/1.0/boundary-set/county-subdivisions-2012.geojson\n",
    "\n",
    "## County demographics: \n",
    "## Population and Income: \n",
    "##https://en.wikipedia.org/wiki/List_of_California_locations_by_income\n",
    "\n",
    "## California county voter preferences \n",
    "## https://en.wikipedia.org/wiki/California_locations_by_voter_registration\n",
    "\n",
    "## You also have race makeup data from the census \n",
    "\n",
    "## Measuring Diversity: http://www.unc.edu/~pmeyer/carstat/tools.html\n",
    "\n",
    "geojson_url = \"http://s3-us-west-2.amazonaws.com/boundaries.latimes.com/archive/1.0/boundary-set/counties-2012.geojson\""
   ]
  },
  {
   "cell_type": "code",
   "execution_count": null,
   "metadata": {},
   "outputs": [],
   "source": [
    "response = urllib.request.urlopen(geojson_url)\n",
    "data = json.loads(response.read().decode())"
   ]
  },
  {
   "cell_type": "code",
   "execution_count": null,
   "metadata": {},
   "outputs": [],
   "source": [
    "names = []\n",
    "for i in range(58):\n",
    "    names.append(data['features'][i]['properties']['name'])"
   ]
  },
  {
   "cell_type": "code",
   "execution_count": null,
   "metadata": {},
   "outputs": [],
   "source": [
    "county_codes_url = \"https://www2.census.gov/geo/docs/reference/codes/files/st06_ca_cou.txt\"\n",
    "county_code = response = urllib.request.urlopen(county_codes_url)"
   ]
  },
  {
   "cell_type": "code",
   "execution_count": null,
   "metadata": {},
   "outputs": [],
   "source": [
    "list_of_stuff = []\n",
    "for line in county_code:\n",
    "    list_of_stuff.append(str(line))"
   ]
  },
  {
   "cell_type": "code",
   "execution_count": null,
   "metadata": {},
   "outputs": [],
   "source": [
    "col_names = [\"STATE\",\"STATEFP\",\"COUNTYFP\",\"COUNTYNAME\",\"CLASSFP\"]\n",
    "the_garbage_at_the_end = re.search('\\\\\\.*$', list_of_stuff[0])\n",
    "first_clean_phase = [re.sub('\\\\\\.*$','',i) for i in list_of_stuff]\n",
    "final_clean_phase = [re.sub('b\\'','',i) for i in first_clean_phase]\n",
    "turned_into_rows = [i.split(',') for i in final_clean_phase]\n",
    "turned_into_rows[0]"
   ]
  }
 ],
 "metadata": {
  "kernelspec": {
   "display_name": "Python 3",
   "language": "python",
   "name": "python3"
  },
  "language_info": {
   "codemirror_mode": {
    "name": "ipython",
    "version": 3
   },
   "file_extension": ".py",
   "mimetype": "text/x-python",
   "name": "python",
   "nbconvert_exporter": "python",
   "pygments_lexer": "ipython3",
   "version": "3.6.5"
  }
 },
 "nbformat": 4,
 "nbformat_minor": 2
}
