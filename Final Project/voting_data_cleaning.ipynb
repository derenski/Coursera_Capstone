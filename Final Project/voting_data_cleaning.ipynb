{
 "cells": [
  {
   "cell_type": "code",
   "execution_count": 67,
   "metadata": {},
   "outputs": [],
   "source": [
    "import pandas as pd\n",
    "import numpy as np\n",
    "import urllib.request, json, bs4 as bs, requests\n",
    "import seaborn as sns\n",
    "import matplotlib.pyplot\n",
    "import re"
   ]
  },
  {
   "cell_type": "code",
   "execution_count": 9,
   "metadata": {},
   "outputs": [],
   "source": [
    "url_for_voting_data = \"https://en.wikipedia.org/wiki/California_locations_by_voter_registration\"\n",
    "\n",
    "voting_page = requests.get(url_for_voting_data, timeout = 5)\n",
    "\n"
   ]
  },
  {
   "cell_type": "code",
   "execution_count": 10,
   "metadata": {},
   "outputs": [],
   "source": [
    "voting_beautified = bs.BeautifulSoup(voting_page.content, \"html.parser\")"
   ]
  },
  {
   "cell_type": "code",
   "execution_count": 11,
   "metadata": {},
   "outputs": [],
   "source": [
    "voting_results_table_raw = voting_beautified.find('table',{'class':'wikitable sortable'})"
   ]
  },
  {
   "cell_type": "code",
   "execution_count": 14,
   "metadata": {},
   "outputs": [],
   "source": [
    "raw_table_parsed = voting_results_table_raw.find_all('tr')"
   ]
  },
  {
   "cell_type": "code",
   "execution_count": 22,
   "metadata": {},
   "outputs": [],
   "source": [
    "raw_columns = raw_table_parsed[0].text.split('\\n\\n')\n",
    "\n",
    "final_columns = [re.sub(\"\\[.*\\]|\\n\",\"\",k) for k in raw_columns]\n"
   ]
  },
  {
   "cell_type": "code",
   "execution_count": 54,
   "metadata": {},
   "outputs": [],
   "source": [
    "raw_rows = [i.text.split('\\n') for i in raw_table_parsed[1:]]\n",
    "rows_with_no_empty_elements = [[re.sub(\"%|,\",\"\",i[j]) for j in range(len(i)) if i[j] != \"\"] \n",
    "                               for i in raw_rows]\n",
    "\n",
    "final_rows = []\n",
    "\n",
    "for row in rows_with_no_empty_elements:\n",
    "    \n",
    "    next_row = []\n",
    "    \n",
    "    for element in row:\n",
    "        \n",
    "        try: \n",
    "            \n",
    "            next_row.append(float(element))\n",
    "        except:\n",
    "            \n",
    "            next_row.append(element)\n",
    "            \n",
    "    final_rows.append(next_row)\n",
    "        \n",
    "        \n",
    "        \n",
    "column_values = [[i[j] for i in final_rows] for j in range(len(final_columns))]\n",
    "       \n",
    "    \n",
    "    \n",
    "    "
   ]
  },
  {
   "cell_type": "code",
   "execution_count": 64,
   "metadata": {},
   "outputs": [],
   "source": [
    "voting_data_dict = dict(zip(final_columns, column_values))\n",
    "voting_data = pd.DataFrame(voting_data_dict, columns = final_columns)"
   ]
  },
  {
   "cell_type": "code",
   "execution_count": 66,
   "metadata": {},
   "outputs": [
    {
     "data": {
      "text/html": [
       "<div>\n",
       "<style scoped>\n",
       "    .dataframe tbody tr th:only-of-type {\n",
       "        vertical-align: middle;\n",
       "    }\n",
       "\n",
       "    .dataframe tbody tr th {\n",
       "        vertical-align: top;\n",
       "    }\n",
       "\n",
       "    .dataframe thead th {\n",
       "        text-align: right;\n",
       "    }\n",
       "</style>\n",
       "<table border=\"1\" class=\"dataframe\">\n",
       "  <thead>\n",
       "    <tr style=\"text-align: right;\">\n",
       "      <th></th>\n",
       "      <th>County</th>\n",
       "      <th>Population</th>\n",
       "      <th>Registered voters</th>\n",
       "      <th>Democratic</th>\n",
       "      <th>Republican</th>\n",
       "      <th>D–R spread</th>\n",
       "      <th>Other</th>\n",
       "      <th>No party preference</th>\n",
       "    </tr>\n",
       "  </thead>\n",
       "  <tbody>\n",
       "    <tr>\n",
       "      <th>0</th>\n",
       "      <td>Alameda</td>\n",
       "      <td>1494876.0</td>\n",
       "      <td>54.6</td>\n",
       "      <td>56.4</td>\n",
       "      <td>14.1</td>\n",
       "      <td>42.3</td>\n",
       "      <td>12.1</td>\n",
       "      <td>19.5</td>\n",
       "    </tr>\n",
       "    <tr>\n",
       "      <th>1</th>\n",
       "      <td>Alpine</td>\n",
       "      <td>1167.0</td>\n",
       "      <td>66.1</td>\n",
       "      <td>37.6</td>\n",
       "      <td>30.5</td>\n",
       "      <td>7.1</td>\n",
       "      <td>10.8</td>\n",
       "      <td>25.0</td>\n",
       "    </tr>\n",
       "    <tr>\n",
       "      <th>2</th>\n",
       "      <td>Amador</td>\n",
       "      <td>38244.0</td>\n",
       "      <td>56.1</td>\n",
       "      <td>31.7</td>\n",
       "      <td>45.0</td>\n",
       "      <td>-13.3</td>\n",
       "      <td>10.3</td>\n",
       "      <td>17.2</td>\n",
       "    </tr>\n",
       "    <tr>\n",
       "      <th>3</th>\n",
       "      <td>Butte</td>\n",
       "      <td>219309.0</td>\n",
       "      <td>55.4</td>\n",
       "      <td>34.4</td>\n",
       "      <td>37.1</td>\n",
       "      <td>-2.7</td>\n",
       "      <td>10.4</td>\n",
       "      <td>21.5</td>\n",
       "    </tr>\n",
       "    <tr>\n",
       "      <th>4</th>\n",
       "      <td>Calaveras</td>\n",
       "      <td>45794.0</td>\n",
       "      <td>62.8</td>\n",
       "      <td>30.7</td>\n",
       "      <td>42.5</td>\n",
       "      <td>-11.8</td>\n",
       "      <td>12.3</td>\n",
       "      <td>19.0</td>\n",
       "    </tr>\n",
       "    <tr>\n",
       "      <th>5</th>\n",
       "      <td>Colusa</td>\n",
       "      <td>21297.0</td>\n",
       "      <td>36.0</td>\n",
       "      <td>34.4</td>\n",
       "      <td>45.3</td>\n",
       "      <td>-10.9</td>\n",
       "      <td>5.3</td>\n",
       "      <td>17.3</td>\n",
       "    </tr>\n",
       "    <tr>\n",
       "      <th>6</th>\n",
       "      <td>Contra Costa</td>\n",
       "      <td>1037817.0</td>\n",
       "      <td>51.1</td>\n",
       "      <td>49.6</td>\n",
       "      <td>24.8</td>\n",
       "      <td>24.8</td>\n",
       "      <td>6.7</td>\n",
       "      <td>21.4</td>\n",
       "    </tr>\n",
       "    <tr>\n",
       "      <th>7</th>\n",
       "      <td>Del Norte</td>\n",
       "      <td>28561.0</td>\n",
       "      <td>42.9</td>\n",
       "      <td>34.7</td>\n",
       "      <td>37.5</td>\n",
       "      <td>-2.8</td>\n",
       "      <td>12.0</td>\n",
       "      <td>20.1</td>\n",
       "    </tr>\n",
       "    <tr>\n",
       "      <th>8</th>\n",
       "      <td>El Dorado</td>\n",
       "      <td>179878.0</td>\n",
       "      <td>61.3</td>\n",
       "      <td>29.2</td>\n",
       "      <td>43.9</td>\n",
       "      <td>-14.7</td>\n",
       "      <td>10.4</td>\n",
       "      <td>20.3</td>\n",
       "    </tr>\n",
       "    <tr>\n",
       "      <th>9</th>\n",
       "      <td>Fresno</td>\n",
       "      <td>920623.0</td>\n",
       "      <td>45.1</td>\n",
       "      <td>40.2</td>\n",
       "      <td>38.2</td>\n",
       "      <td>2.0</td>\n",
       "      <td>7.5</td>\n",
       "      <td>16.8</td>\n",
       "    </tr>\n",
       "  </tbody>\n",
       "</table>\n",
       "</div>"
      ],
      "text/plain": [
       "         County  Population  Registered voters  Democratic  Republican  \\\n",
       "0       Alameda   1494876.0               54.6        56.4        14.1   \n",
       "1        Alpine      1167.0               66.1        37.6        30.5   \n",
       "2        Amador     38244.0               56.1        31.7        45.0   \n",
       "3         Butte    219309.0               55.4        34.4        37.1   \n",
       "4     Calaveras     45794.0               62.8        30.7        42.5   \n",
       "5        Colusa     21297.0               36.0        34.4        45.3   \n",
       "6  Contra Costa   1037817.0               51.1        49.6        24.8   \n",
       "7     Del Norte     28561.0               42.9        34.7        37.5   \n",
       "8     El Dorado    179878.0               61.3        29.2        43.9   \n",
       "9        Fresno    920623.0               45.1        40.2        38.2   \n",
       "\n",
       "   D–R spread  Other  No party preference  \n",
       "0        42.3   12.1                 19.5  \n",
       "1         7.1   10.8                 25.0  \n",
       "2       -13.3   10.3                 17.2  \n",
       "3        -2.7   10.4                 21.5  \n",
       "4       -11.8   12.3                 19.0  \n",
       "5       -10.9    5.3                 17.3  \n",
       "6        24.8    6.7                 21.4  \n",
       "7        -2.8   12.0                 20.1  \n",
       "8       -14.7   10.4                 20.3  \n",
       "9         2.0    7.5                 16.8  "
      ]
     },
     "execution_count": 66,
     "metadata": {},
     "output_type": "execute_result"
    }
   ],
   "source": [
    "voting_data.head(10)"
   ]
  },
  {
   "cell_type": "code",
   "execution_count": 73,
   "metadata": {},
   "outputs": [
    {
     "data": {
      "text/plain": [
       "[Text(0,0.5,'Percent Democrat'), Text(0.5,0,'Log Population')]"
      ]
     },
     "execution_count": 73,
     "metadata": {},
     "output_type": "execute_result"
    },
    {
     "data": {
      "image/png": "[encoded data removed]",
      "text/plain": [
       "<Figure size 432x288 with 1 Axes>"
      ]
     },
     "metadata": {},
     "output_type": "display_data"
    }
   ],
   "source": [
    "ax = sns.regplot(x = np.log(voting_data['Population']), y = voting_data['Democratic'])\n",
    "\n",
    "ax.set(xlabel='Log Population', ylabel='Percent Democrat')"
   ]
  },
  {
   "cell_type": "code",
   "execution_count": 74,
   "metadata": {},
   "outputs": [],
   "source": [
    "voting_data.to_csv('voting_data.csv')"
   ]
  },
  {
   "cell_type": "code",
   "execution_count": null,
   "metadata": {},
   "outputs": [],
   "source": []
  }
 ],
 "metadata": {
  "kernelspec": {
   "display_name": "Python 3",
   "language": "python",
   "name": "python3"
  },
  "language_info": {
   "codemirror_mode": {
    "name": "ipython",
    "version": 3
   },
   "file_extension": ".py",
   "mimetype": "text/x-python",
   "name": "python",
   "nbconvert_exporter": "python",
   "pygments_lexer": "ipython3",
   "version": "3.6.5"
  }
 },
 "nbformat": 4,
 "nbformat_minor": 2
}
