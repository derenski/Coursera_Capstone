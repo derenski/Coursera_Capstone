{
 "cells": [
  {
   "cell_type": "code",
   "execution_count": 1,
   "metadata": {},
   "outputs": [],
   "source": [
    "import pandas as pd\n",
    "import bs4 as bs\n",
    "import requests"
   ]
  },
  {
   "cell_type": "markdown",
   "metadata": {},
   "source": [
    "## Reading in the page, and Pulling the Table from the HTML code"
   ]
  },
  {
   "cell_type": "code",
   "execution_count": 2,
   "metadata": {},
   "outputs": [],
   "source": [
    "wiki_url = \"https://en.wikipedia.org/wiki/List_of_postal_codes_of_Canada:_M\"\n",
    "\n",
    "page_data = requests.get(wiki_url, timeout = 5)\n",
    "\n",
    "page_content = bs.BeautifulSoup(page_data.content, \"html.parser\")\n",
    "\n",
    "\n",
    "data_table = page_content.find('table',{'class':'wikitable sortable'})\n"
   ]
  },
  {
   "cell_type": "markdown",
   "metadata": {},
   "source": [
    "## Selecting the Variable Names From the Table"
   ]
  },
  {
   "cell_type": "code",
   "execution_count": 3,
   "metadata": {},
   "outputs": [],
   "source": [
    "columns = data_table.find_all('th')"
   ]
  },
  {
   "cell_type": "code",
   "execution_count": 4,
   "metadata": {},
   "outputs": [],
   "source": [
    "variable_names = []\n",
    "\n",
    "for col in columns: \n",
    "    \n",
    "    variable_names.append(col.text)\n",
    "\n",
    "\n"
   ]
  },
  {
   "cell_type": "code",
   "execution_count": 5,
   "metadata": {},
   "outputs": [
    {
     "data": {
      "text/plain": [
       "['Postcode', 'Borough', 'Neighbourhood\\n']"
      ]
     },
     "execution_count": 5,
     "metadata": {},
     "output_type": "execute_result"
    }
   ],
   "source": [
    "variable_names ## Column names will need cleaning"
   ]
  },
  {
   "cell_type": "markdown",
   "metadata": {},
   "source": [
    "## Selecting and Cleaning the Rows from the Table"
   ]
  },
  {
   "cell_type": "code",
   "execution_count": 6,
   "metadata": {},
   "outputs": [],
   "source": [
    "raw_rows = data_table.find_all('tr')[0:]\n",
    "parsed_rows = []"
   ]
  },
  {
   "cell_type": "code",
   "execution_count": 7,
   "metadata": {},
   "outputs": [],
   "source": [
    "for r in raw_rows:\n",
    "    \n",
    "    parsed_rows.append(r.text)\n",
    "    \n",
    "    "
   ]
  },
  {
   "cell_type": "code",
   "execution_count": 8,
   "metadata": {},
   "outputs": [],
   "source": [
    "no_newline_rows = [r.replace('\\n',',') for r in parsed_rows] ## Replacing Newlines "
   ]
  },
  {
   "cell_type": "code",
   "execution_count": 9,
   "metadata": {},
   "outputs": [],
   "source": [
    "parsed_into_rows = [nnr.split(',') for nnr in no_newline_rows] ## Parsing Text Strings into Rows"
   ]
  },
  {
   "cell_type": "code",
   "execution_count": 10,
   "metadata": {},
   "outputs": [
    {
     "data": {
      "text/plain": [
       "[['', 'Postcode', 'Borough', 'Neighbourhood', ''],\n",
       " ['', 'M1A', 'Not assigned', 'Not assigned', ''],\n",
       " ['', 'M2A', 'Not assigned', 'Not assigned', ''],\n",
       " ['', 'M3A', 'North York', 'Parkwoods', ''],\n",
       " ['', 'M4A', 'North York', 'Victoria Village', ''],\n",
       " ['', 'M5A', 'Downtown Toronto', 'Harbourfront', ''],\n",
       " ['', 'M5A', 'Downtown Toronto', 'Regent Park', ''],\n",
       " ['', 'M6A', 'North York', 'Lawrence Heights', ''],\n",
       " ['', 'M6A', 'North York', 'Lawrence Manor', ''],\n",
       " ['', 'M7A', \"Queen's Park\", 'Not assigned', ''],\n",
       " ['', 'M8A', 'Not assigned', 'Not assigned', ''],\n",
       " ['', 'M9A', 'Etobicoke', 'Islington Avenue', ''],\n",
       " ['', 'M1B', 'Scarborough', 'Rouge', ''],\n",
       " ['', 'M1B', 'Scarborough', 'Malvern', ''],\n",
       " ['', 'M2B', 'Not assigned', 'Not assigned', ''],\n",
       " ['', 'M3B', 'North York', 'Don Mills North', ''],\n",
       " ['', 'M4B', 'East York', 'Woodbine Gardens', ''],\n",
       " ['', 'M4B', 'East York', 'Parkview Hill', ''],\n",
       " ['', 'M5B', 'Downtown Toronto', 'Ryerson', ''],\n",
       " ['', 'M5B', 'Downtown Toronto', 'Garden District', ''],\n",
       " ['', 'M6B', 'North York', 'Glencairn', ''],\n",
       " ['', 'M7B', 'Not assigned', 'Not assigned', ''],\n",
       " ['', 'M8B', 'Not assigned', 'Not assigned', ''],\n",
       " ['', 'M9B', 'Etobicoke', 'Cloverdale', ''],\n",
       " ['', 'M9B', 'Etobicoke', 'Islington', ''],\n",
       " ['', 'M9B', 'Etobicoke', 'Martin Grove', ''],\n",
       " ['', 'M9B', 'Etobicoke', 'Princess Gardens', ''],\n",
       " ['', 'M9B', 'Etobicoke', 'West Deane Park', ''],\n",
       " ['', 'M1C', 'Scarborough', 'Highland Creek', ''],\n",
       " ['', 'M1C', 'Scarborough', 'Rouge Hill', ''],\n",
       " ['', 'M1C', 'Scarborough', 'Port Union', ''],\n",
       " ['', 'M2C', 'Not assigned', 'Not assigned', ''],\n",
       " ['', 'M3C', 'North York', 'Flemingdon Park', ''],\n",
       " ['', 'M3C', 'North York', 'Don Mills South', ''],\n",
       " ['', 'M4C', 'East York', 'Woodbine Heights', ''],\n",
       " ['', 'M5C', 'Downtown Toronto', 'St. James Town', ''],\n",
       " ['', 'M6C', 'York', 'Humewood-Cedarvale', ''],\n",
       " ['', 'M7C', 'Not assigned', 'Not assigned', ''],\n",
       " ['', 'M8C', 'Not assigned', 'Not assigned', ''],\n",
       " ['', 'M9C', 'Etobicoke', 'Bloordale Gardens', ''],\n",
       " ['', 'M9C', 'Etobicoke', 'Eringate', ''],\n",
       " ['', 'M9C', 'Etobicoke', 'Markland Wood', ''],\n",
       " ['', 'M9C', 'Etobicoke', 'Old Burnhamthorpe', ''],\n",
       " ['', 'M1E', 'Scarborough', 'Guildwood', ''],\n",
       " ['', 'M1E', 'Scarborough', 'Morningside', ''],\n",
       " ['', 'M1E', 'Scarborough', 'West Hill', ''],\n",
       " ['', 'M2E', 'Not assigned', 'Not assigned', ''],\n",
       " ['', 'M3E', 'Not assigned', 'Not assigned', ''],\n",
       " ['', 'M4E', 'East Toronto', 'The Beaches', ''],\n",
       " ['', 'M5E', 'Downtown Toronto', 'Berczy Park', ''],\n",
       " ['', 'M6E', 'York', 'Caledonia-Fairbanks', ''],\n",
       " ['', 'M7E', 'Not assigned', 'Not assigned', ''],\n",
       " ['', 'M8E', 'Not assigned', 'Not assigned', ''],\n",
       " ['', 'M9E', 'Not assigned', 'Not assigned', ''],\n",
       " ['', 'M1G', 'Scarborough', 'Woburn', ''],\n",
       " ['', 'M2G', 'Not assigned', 'Not assigned', ''],\n",
       " ['', 'M3G', 'Not assigned', 'Not assigned', ''],\n",
       " ['', 'M4G', 'East York', 'Leaside', ''],\n",
       " ['', 'M5G', 'Downtown Toronto', 'Central Bay Street', ''],\n",
       " ['', 'M6G', 'Downtown Toronto', 'Christie', ''],\n",
       " ['', 'M7G', 'Not assigned', 'Not assigned', ''],\n",
       " ['', 'M8G', 'Not assigned', 'Not assigned', ''],\n",
       " ['', 'M9G', 'Not assigned', 'Not assigned', ''],\n",
       " ['', 'M1H', 'Scarborough', 'Cedarbrae', ''],\n",
       " ['', 'M2H', 'North York', 'Hillcrest Village', ''],\n",
       " ['', 'M3H', 'North York', 'Bathurst Manor', ''],\n",
       " ['', 'M3H', 'North York', 'Downsview North', ''],\n",
       " ['', 'M3H', 'North York', 'Wilson Heights', ''],\n",
       " ['', 'M4H', 'East York', 'Thorncliffe Park', ''],\n",
       " ['', 'M5H', 'Downtown Toronto', 'Adelaide', ''],\n",
       " ['', 'M5H', 'Downtown Toronto', 'King', ''],\n",
       " ['', 'M5H', 'Downtown Toronto', 'Richmond', ''],\n",
       " ['', 'M6H', 'West Toronto', 'Dovercourt Village', ''],\n",
       " ['', 'M6H', 'West Toronto', 'Dufferin', ''],\n",
       " ['', 'M7H', 'Not assigned', 'Not assigned', ''],\n",
       " ['', 'M8H', 'Not assigned', 'Not assigned', ''],\n",
       " ['', 'M9H', 'Not assigned', 'Not assigned', ''],\n",
       " ['', 'M1J', 'Scarborough', 'Scarborough Village', ''],\n",
       " ['', 'M2J', 'North York', 'Fairview', ''],\n",
       " ['', 'M2J', 'North York', 'Henry Farm', ''],\n",
       " ['', 'M2J', 'North York', 'Oriole', ''],\n",
       " ['', 'M3J', 'North York', 'Northwood Park', ''],\n",
       " ['', 'M3J', 'North York', 'York University', ''],\n",
       " ['', 'M4J', 'East York', 'East Toronto', ''],\n",
       " ['', 'M5J', 'Downtown Toronto', 'Harbourfront East', ''],\n",
       " ['', 'M5J', 'Downtown Toronto', 'Toronto Islands', ''],\n",
       " ['', 'M5J', 'Downtown Toronto', 'Union Station', ''],\n",
       " ['', 'M6J', 'West Toronto', 'Little Portugal', ''],\n",
       " ['', 'M6J', 'West Toronto', 'Trinity', ''],\n",
       " ['', 'M7J', 'Not assigned', 'Not assigned', ''],\n",
       " ['', 'M8J', 'Not assigned', 'Not assigned', ''],\n",
       " ['', 'M9J', 'Not assigned', 'Not assigned', ''],\n",
       " ['', 'M1K', 'Scarborough', 'East Birchmount Park', ''],\n",
       " ['', 'M1K', 'Scarborough', 'Ionview', ''],\n",
       " ['', 'M1K', 'Scarborough', 'Kennedy Park', ''],\n",
       " ['', 'M2K', 'North York', 'Bayview Village', ''],\n",
       " ['', 'M3K', 'North York', 'CFB Toronto', ''],\n",
       " ['', 'M3K', 'North York', 'Downsview East', ''],\n",
       " ['', 'M4K', 'East Toronto', 'The Danforth West', ''],\n",
       " ['', 'M4K', 'East Toronto', 'Riverdale', ''],\n",
       " ['', 'M5K', 'Downtown Toronto', 'Design Exchange', ''],\n",
       " ['', 'M5K', 'Downtown Toronto', 'Toronto Dominion Centre', ''],\n",
       " ['', 'M6K', 'West Toronto', 'Brockton', ''],\n",
       " ['', 'M6K', 'West Toronto', 'Exhibition Place', ''],\n",
       " ['', 'M6K', 'West Toronto', 'Parkdale Village', ''],\n",
       " ['', 'M7K', 'Not assigned', 'Not assigned', ''],\n",
       " ['', 'M8K', 'Not assigned', 'Not assigned', ''],\n",
       " ['', 'M9K', 'Not assigned', 'Not assigned', ''],\n",
       " ['', 'M1L', 'Scarborough', 'Clairlea', ''],\n",
       " ['', 'M1L', 'Scarborough', 'Golden Mile', ''],\n",
       " ['', 'M1L', 'Scarborough', 'Oakridge', ''],\n",
       " ['', 'M2L', 'North York', 'Silver Hills', ''],\n",
       " ['', 'M2L', 'North York', 'York Mills', ''],\n",
       " ['', 'M3L', 'North York', 'Downsview West', ''],\n",
       " ['', 'M4L', 'East Toronto', 'The Beaches West', ''],\n",
       " ['', 'M4L', 'East Toronto', 'India Bazaar', ''],\n",
       " ['', 'M5L', 'Downtown Toronto', 'Commerce Court', ''],\n",
       " ['', 'M5L', 'Downtown Toronto', 'Victoria Hotel', ''],\n",
       " ['', 'M6L', 'North York', 'Maple Leaf Park', ''],\n",
       " ['', 'M6L', 'North York', 'North Park', ''],\n",
       " ['', 'M6L', 'North York', 'Upwood Park', ''],\n",
       " ['', 'M7L', 'Not assigned', 'Not assigned', ''],\n",
       " ['', 'M8L', 'Not assigned', 'Not assigned', ''],\n",
       " ['', 'M9L', 'North York', 'Humber Summit', ''],\n",
       " ['', 'M1M', 'Scarborough', 'Cliffcrest', ''],\n",
       " ['', 'M1M', 'Scarborough', 'Cliffside', ''],\n",
       " ['', 'M1M', 'Scarborough', 'Scarborough Village West', ''],\n",
       " ['', 'M2M', 'North York', 'Newtonbrook', ''],\n",
       " ['', 'M2M', 'North York', 'Willowdale', ''],\n",
       " ['', 'M3M', 'North York', 'Downsview Central', ''],\n",
       " ['', 'M4M', 'East Toronto', 'Studio District', ''],\n",
       " ['', 'M5M', 'North York', 'Bedford Park', ''],\n",
       " ['', 'M5M', 'North York', 'Lawrence Manor East', ''],\n",
       " ['', 'M6M', 'York', 'Del Ray', ''],\n",
       " ['', 'M6M', 'York', 'Keelsdale', ''],\n",
       " ['', 'M6M', 'York', 'Mount Dennis', ''],\n",
       " ['', 'M6M', 'York', 'Silverthorn', ''],\n",
       " ['', 'M7M', 'Not assigned', 'Not assigned', ''],\n",
       " ['', 'M8M', 'Not assigned', 'Not assigned', ''],\n",
       " ['', 'M9M', 'North York', 'Emery', ''],\n",
       " ['', 'M9M', 'North York', 'Humberlea', ''],\n",
       " ['', 'M1N', 'Scarborough', 'Birch Cliff', ''],\n",
       " ['', 'M1N', 'Scarborough', 'Cliffside West', ''],\n",
       " ['', 'M2N', 'North York', 'Willowdale South', ''],\n",
       " ['', 'M3N', 'North York', 'Downsview Northwest', ''],\n",
       " ['', 'M4N', 'Central Toronto', 'Lawrence Park', ''],\n",
       " ['', 'M5N', 'Central Toronto', 'Roselawn', ''],\n",
       " ['', 'M6N', 'York', 'The Junction North', ''],\n",
       " ['', 'M6N', 'York', 'Runnymede', ''],\n",
       " ['', 'M7N', 'Not assigned', 'Not assigned', ''],\n",
       " ['', 'M8N', 'Not assigned', 'Not assigned', ''],\n",
       " ['', 'M9N', 'York', 'Weston', ''],\n",
       " ['', 'M1P', 'Scarborough', 'Dorset Park', ''],\n",
       " ['', 'M1P', 'Scarborough', 'Scarborough Town Centre', ''],\n",
       " ['', 'M1P', 'Scarborough', 'Wexford Heights', ''],\n",
       " ['', 'M2P', 'North York', 'York Mills West', ''],\n",
       " ['', 'M3P', 'Not assigned', 'Not assigned', ''],\n",
       " ['', 'M4P', 'Central Toronto', 'Davisville North', ''],\n",
       " ['', 'M5P', 'Central Toronto', 'Forest Hill North', ''],\n",
       " ['', 'M5P', 'Central Toronto', 'Forest Hill West', ''],\n",
       " ['', 'M6P', 'West Toronto', 'High Park', ''],\n",
       " ['', 'M6P', 'West Toronto', 'The Junction South', ''],\n",
       " ['', 'M7P', 'Not assigned', 'Not assigned', ''],\n",
       " ['', 'M8P', 'Not assigned', 'Not assigned', ''],\n",
       " ['', 'M9P', 'Etobicoke', 'Westmount', ''],\n",
       " ['', 'M1R', 'Scarborough', 'Maryvale', ''],\n",
       " ['', 'M1R', 'Scarborough', 'Wexford', ''],\n",
       " ['', 'M2R', 'North York', 'Willowdale West', ''],\n",
       " ['', 'M3R', 'Not assigned', 'Not assigned', ''],\n",
       " ['', 'M4R', 'Central Toronto', 'North Toronto West', ''],\n",
       " ['', 'M5R', 'Central Toronto', 'The Annex', ''],\n",
       " ['', 'M5R', 'Central Toronto', 'North Midtown', ''],\n",
       " ['', 'M5R', 'Central Toronto', 'Yorkville', ''],\n",
       " ['', 'M6R', 'West Toronto', 'Parkdale', ''],\n",
       " ['', 'M6R', 'West Toronto', 'Roncesvalles', ''],\n",
       " ['', 'M7R', 'Mississauga', 'Canada Post Gateway Processing Centre', ''],\n",
       " ['', 'M8R', 'Not assigned', 'Not assigned', ''],\n",
       " ['', 'M9R', 'Etobicoke', 'Kingsview Village', ''],\n",
       " ['', 'M9R', 'Etobicoke', 'Martin Grove Gardens', ''],\n",
       " ['', 'M9R', 'Etobicoke', 'Richview Gardens', ''],\n",
       " ['', 'M9R', 'Etobicoke', 'St. Phillips', ''],\n",
       " ['', 'M1S', 'Scarborough', 'Agincourt', ''],\n",
       " ['', 'M2S', 'Not assigned', 'Not assigned', ''],\n",
       " ['', 'M3S', 'Not assigned', 'Not assigned', ''],\n",
       " ['', 'M4S', 'Central Toronto', 'Davisville', ''],\n",
       " ['', 'M5S', 'Downtown Toronto', 'Harbord', ''],\n",
       " ['', 'M5S', 'Downtown Toronto', 'University of Toronto', ''],\n",
       " ['', 'M6S', 'West Toronto', 'Runnymede', ''],\n",
       " ['', 'M6S', 'West Toronto', 'Swansea', ''],\n",
       " ['', 'M7S', 'Not assigned', 'Not assigned', ''],\n",
       " ['', 'M8S', 'Not assigned', 'Not assigned', ''],\n",
       " ['', 'M9S', 'Not assigned', 'Not assigned', ''],\n",
       " ['', 'M1T', 'Scarborough', 'Clarks Corners', ''],\n",
       " ['', 'M1T', 'Scarborough', 'Sullivan', ''],\n",
       " ['', 'M1T', 'Scarborough', \"Tam O'Shanter\", ''],\n",
       " ['', 'M2T', 'Not assigned', 'Not assigned', ''],\n",
       " ['', 'M3T', 'Not assigned', 'Not assigned', ''],\n",
       " ['', 'M4T', 'Central Toronto', 'Moore Park', ''],\n",
       " ['', 'M4T', 'Central Toronto', 'Summerhill East', ''],\n",
       " ['', 'M5T', 'Downtown Toronto', 'Chinatown', ''],\n",
       " ['', 'M5T', 'Downtown Toronto', 'Grange Park', ''],\n",
       " ['', 'M5T', 'Downtown Toronto', 'Kensington Market', ''],\n",
       " ['', 'M6T', 'Not assigned', 'Not assigned', ''],\n",
       " ['', 'M7T', 'Not assigned', 'Not assigned', ''],\n",
       " ['', 'M8T', 'Not assigned', 'Not assigned', ''],\n",
       " ['', 'M9T', 'Not assigned', 'Not assigned', ''],\n",
       " ['', 'M1V', 'Scarborough', 'Agincourt North', ''],\n",
       " ['', 'M1V', 'Scarborough', \"L'Amoreaux East\", ''],\n",
       " ['', 'M1V', 'Scarborough', 'Milliken', ''],\n",
       " ['', 'M1V', 'Scarborough', 'Steeles East', ''],\n",
       " ['', 'M2V', 'Not assigned', 'Not assigned', ''],\n",
       " ['', 'M3V', 'Not assigned', 'Not assigned', ''],\n",
       " ['', 'M4V', 'Central Toronto', 'Deer Park', ''],\n",
       " ['', 'M4V', 'Central Toronto', 'Forest Hill SE', ''],\n",
       " ['', 'M4V', 'Central Toronto', 'Rathnelly', ''],\n",
       " ['', 'M4V', 'Central Toronto', 'South Hill', ''],\n",
       " ['', 'M4V', 'Central Toronto', 'Summerhill West', ''],\n",
       " ['', 'M5V', 'Downtown Toronto', 'CN Tower', ''],\n",
       " ['', 'M5V', 'Downtown Toronto', 'Bathurst Quay', ''],\n",
       " ['', 'M5V', 'Downtown Toronto', 'Island airport', ''],\n",
       " ['', 'M5V', 'Downtown Toronto', 'Harbourfront West', ''],\n",
       " ['', 'M5V', 'Downtown Toronto', 'King and Spadina', ''],\n",
       " ['', 'M5V', 'Downtown Toronto', 'Railway Lands', ''],\n",
       " ['', 'M5V', 'Downtown Toronto', 'South Niagara', ''],\n",
       " ['', 'M6V', 'Not assigned', 'Not assigned', ''],\n",
       " ['', 'M7V', 'Not assigned', 'Not assigned', ''],\n",
       " ['', 'M8V', 'Etobicoke', 'Humber Bay Shores', ''],\n",
       " ['', 'M8V', 'Etobicoke', 'Mimico South', ''],\n",
       " ['', 'M8V', 'Etobicoke', 'New Toronto', ''],\n",
       " ['', 'M9V', 'Etobicoke', 'Albion Gardens', ''],\n",
       " ['', 'M9V', 'Etobicoke', 'Beaumond Heights', ''],\n",
       " ['', 'M9V', 'Etobicoke', 'Humbergate', ''],\n",
       " ['', 'M9V', 'Etobicoke', 'Jamestown', ''],\n",
       " ['', 'M9V', 'Etobicoke', 'Mount Olive', ''],\n",
       " ['', 'M9V', 'Etobicoke', 'Silverstone', ''],\n",
       " ['', 'M9V', 'Etobicoke', 'South Steeles', ''],\n",
       " ['', 'M9V', 'Etobicoke', 'Thistletown', ''],\n",
       " ['', 'M1W', 'Scarborough', \"L'Amoreaux West\", ''],\n",
       " ['', 'M1W', 'Scarborough', 'Steeles West', ''],\n",
       " ['', 'M2W', 'Not assigned', 'Not assigned', ''],\n",
       " ['', 'M3W', 'Not assigned', 'Not assigned', ''],\n",
       " ['', 'M4W', 'Downtown Toronto', 'Rosedale', ''],\n",
       " ['', 'M5W', 'Downtown Toronto', 'Stn A PO Boxes 25 The Esplanade', ''],\n",
       " ['', 'M6W', 'Not assigned', 'Not assigned', ''],\n",
       " ['', 'M7W', 'Not assigned', 'Not assigned', ''],\n",
       " ['', 'M8W', 'Etobicoke', 'Alderwood', ''],\n",
       " ['', 'M8W', 'Etobicoke', 'Long Branch', ''],\n",
       " ['', 'M9W', 'Etobicoke', 'Northwest', ''],\n",
       " ['', 'M1X', 'Scarborough', 'Upper Rouge', ''],\n",
       " ['', 'M2X', 'Not assigned', 'Not assigned', ''],\n",
       " ['', 'M3X', 'Not assigned', 'Not assigned', ''],\n",
       " ['', 'M4X', 'Downtown Toronto', 'Cabbagetown', ''],\n",
       " ['', 'M4X', 'Downtown Toronto', 'St. James Town', ''],\n",
       " ['', 'M5X', 'Downtown Toronto', 'First Canadian Place', ''],\n",
       " ['', 'M5X', 'Downtown Toronto', 'Underground city', ''],\n",
       " ['', 'M6X', 'Not assigned', 'Not assigned', ''],\n",
       " ['', 'M7X', 'Not assigned', 'Not assigned', ''],\n",
       " ['', 'M8X', 'Etobicoke', 'The Kingsway', ''],\n",
       " ['', 'M8X', 'Etobicoke', 'Montgomery Road', ''],\n",
       " ['', 'M8X', 'Etobicoke', 'Old Mill North', ''],\n",
       " ['', 'M9X', 'Not assigned', 'Not assigned', ''],\n",
       " ['', 'M1Y', 'Not assigned', 'Not assigned', ''],\n",
       " ['', 'M2Y', 'Not assigned', 'Not assigned', ''],\n",
       " ['', 'M3Y', 'Not assigned', 'Not assigned', ''],\n",
       " ['', 'M4Y', 'Downtown Toronto', 'Church and Wellesley', ''],\n",
       " ['', 'M5Y', 'Not assigned', 'Not assigned', ''],\n",
       " ['', 'M6Y', 'Not assigned', 'Not assigned', ''],\n",
       " ['',\n",
       "  'M7Y',\n",
       "  'East Toronto',\n",
       "  'Business reply mail Processing Centre969 Eastern',\n",
       "  ''],\n",
       " ['', 'M8Y', 'Etobicoke', 'Humber Bay', ''],\n",
       " ['', 'M8Y', 'Etobicoke', \"King's Mill Park\", ''],\n",
       " ['', 'M8Y', 'Etobicoke', 'Kingsway Park South East', ''],\n",
       " ['', 'M8Y', 'Etobicoke', 'Mimico NE', ''],\n",
       " ['', 'M8Y', 'Etobicoke', 'Old Mill South', ''],\n",
       " ['', 'M8Y', 'Etobicoke', 'The Queensway East', ''],\n",
       " ['', 'M8Y', 'Etobicoke', 'Royal York South East', ''],\n",
       " ['', 'M8Y', 'Etobicoke', 'Sunnylea', ''],\n",
       " ['', 'M9Y', 'Not assigned', 'Not assigned', ''],\n",
       " ['', 'M1Z', 'Not assigned', 'Not assigned', ''],\n",
       " ['', 'M2Z', 'Not assigned', 'Not assigned', ''],\n",
       " ['', 'M3Z', 'Not assigned', 'Not assigned', ''],\n",
       " ['', 'M4Z', 'Not assigned', 'Not assigned', ''],\n",
       " ['', 'M5Z', 'Not assigned', 'Not assigned', ''],\n",
       " ['', 'M6Z', 'Not assigned', 'Not assigned', ''],\n",
       " ['', 'M7Z', 'Not assigned', 'Not assigned', ''],\n",
       " ['', 'M8Z', 'Etobicoke', 'Kingsway Park South West', ''],\n",
       " ['', 'M8Z', 'Etobicoke', 'Mimico NW', ''],\n",
       " ['', 'M8Z', 'Etobicoke', 'The Queensway West', ''],\n",
       " ['', 'M8Z', 'Etobicoke', 'Royal York South West', ''],\n",
       " ['', 'M8Z', 'Etobicoke', 'South of Bloor', ''],\n",
       " ['', 'M9Z', 'Not assigned', 'Not assigned', '']]"
      ]
     },
     "execution_count": 10,
     "metadata": {},
     "output_type": "execute_result"
    }
   ],
   "source": [
    "parsed_into_rows"
   ]
  },
  {
   "cell_type": "code",
   "execution_count": 11,
   "metadata": {},
   "outputs": [],
   "source": [
    "final_data = []\n",
    "\n",
    "for pr in parsed_into_rows: ## Removing Empty Elements\n",
    "    \n",
    "    final_data.append([t for t in pr if t != \"\"])"
   ]
  },
  {
   "cell_type": "markdown",
   "metadata": {},
   "source": [
    "## Formatting into Pandas DataFrame and Cleaning Columns"
   ]
  },
  {
   "cell_type": "code",
   "execution_count": 12,
   "metadata": {},
   "outputs": [],
   "source": [
    "column_names = final_data[0]"
   ]
  },
  {
   "cell_type": "code",
   "execution_count": 13,
   "metadata": {},
   "outputs": [],
   "source": [
    "first_column = [final_data[i][0] for i in range(1,len(final_data[1:])+1)] ## Creaing the \n",
    "second_column = [final_data[i][1] for i in range(1,len(final_data[1:])+1)]\n",
    "third_column = [final_data[i][2] for i in range(1,len(final_data[1:])+1)]"
   ]
  },
  {
   "cell_type": "code",
   "execution_count": 14,
   "metadata": {},
   "outputs": [],
   "source": [
    "pd_dict = {column_names[0]:first_column, column_names[1]: second_column, column_names[2]: third_column}"
   ]
  },
  {
   "cell_type": "code",
   "execution_count": 15,
   "metadata": {},
   "outputs": [],
   "source": [
    "full_neighborhood_data = pd.DataFrame(pd_dict, columns = column_names)"
   ]
  },
  {
   "cell_type": "code",
   "execution_count": 16,
   "metadata": {},
   "outputs": [],
   "source": [
    "bad_value = full_neighborhood_data.Borough[0] ## Removing 'Not assigned' boroughs"
   ]
  },
  {
   "cell_type": "code",
   "execution_count": 17,
   "metadata": {},
   "outputs": [],
   "source": [
    "data_with_good_buroughs = full_neighborhood_data.loc[full_neighborhood_data['Borough'] != bad_value,:]"
   ]
  },
  {
   "cell_type": "code",
   "execution_count": 18,
   "metadata": {},
   "outputs": [
    {
     "data": {
      "text/html": [
       "<div>\n",
       "<style scoped>\n",
       "    .dataframe tbody tr th:only-of-type {\n",
       "        vertical-align: middle;\n",
       "    }\n",
       "\n",
       "    .dataframe tbody tr th {\n",
       "        vertical-align: top;\n",
       "    }\n",
       "\n",
       "    .dataframe thead th {\n",
       "        text-align: right;\n",
       "    }\n",
       "</style>\n",
       "<table border=\"1\" class=\"dataframe\">\n",
       "  <thead>\n",
       "    <tr style=\"text-align: right;\">\n",
       "      <th></th>\n",
       "      <th>Postcode</th>\n",
       "      <th>Borough</th>\n",
       "      <th>Neighbourhood</th>\n",
       "    </tr>\n",
       "  </thead>\n",
       "  <tbody>\n",
       "    <tr>\n",
       "      <th>2</th>\n",
       "      <td>M3A</td>\n",
       "      <td>North York</td>\n",
       "      <td>Parkwoods</td>\n",
       "    </tr>\n",
       "    <tr>\n",
       "      <th>3</th>\n",
       "      <td>M4A</td>\n",
       "      <td>North York</td>\n",
       "      <td>Victoria Village</td>\n",
       "    </tr>\n",
       "    <tr>\n",
       "      <th>4</th>\n",
       "      <td>M5A</td>\n",
       "      <td>Downtown Toronto</td>\n",
       "      <td>Harbourfront</td>\n",
       "    </tr>\n",
       "    <tr>\n",
       "      <th>5</th>\n",
       "      <td>M5A</td>\n",
       "      <td>Downtown Toronto</td>\n",
       "      <td>Regent Park</td>\n",
       "    </tr>\n",
       "    <tr>\n",
       "      <th>6</th>\n",
       "      <td>M6A</td>\n",
       "      <td>North York</td>\n",
       "      <td>Lawrence Heights</td>\n",
       "    </tr>\n",
       "  </tbody>\n",
       "</table>\n",
       "</div>"
      ],
      "text/plain": [
       "  Postcode           Borough     Neighbourhood\n",
       "2      M3A        North York         Parkwoods\n",
       "3      M4A        North York  Victoria Village\n",
       "4      M5A  Downtown Toronto      Harbourfront\n",
       "5      M5A  Downtown Toronto       Regent Park\n",
       "6      M6A        North York  Lawrence Heights"
      ]
     },
     "execution_count": 18,
     "metadata": {},
     "output_type": "execute_result"
    }
   ],
   "source": [
    "data_with_good_buroughs.head()"
   ]
  },
  {
   "cell_type": "markdown",
   "metadata": {},
   "source": [
    "## Aggregating Postcodes with Multiple Neighborhoods"
   ]
  },
  {
   "cell_type": "code",
   "execution_count": 19,
   "metadata": {},
   "outputs": [],
   "source": [
    "Postcode_counts = data_with_good_buroughs.Postcode.value_counts() \n",
    "unique_postcodes = list(Postcode_counts.index)## Identifying post codes with multiple neighbrhoods"
   ]
  },
  {
   "cell_type": "code",
   "execution_count": 20,
   "metadata": {},
   "outputs": [],
   "source": [
    "new_rows = [] ## Rows for our final data set\n",
    "\n",
    "for m in unique_postcodes:\n",
    "    \n",
    "    data_this_post_code = data_with_good_buroughs.loc[data_with_good_buroughs.Postcode == m,:] \n",
    "    ## Data for a given post code\n",
    "    \n",
    "    neighborhoods = list(data_this_post_code.loc[:,'Neighbourhood']) ## Neighborhoods in that post code\n",
    "    \n",
    "    counted = 0 ## A way of dealing with 'Not assigned' neighborhoods, and making sure when correcting for this\n",
    "    ## We don't duplicate the value of the borough (so each neighborhood name only appears once)\n",
    "    \n",
    "    for i in range(len(neighborhoods)):\n",
    "        \n",
    "        if neighborhoods[i] == bad_value: ## If \"Not assigned\", give it the borough name\n",
    "            \n",
    "            ## Makes sure that we don't but borough name in more than once,\n",
    "                     ##           in case a given borough has multiple missing neighborhoods.\n",
    "            \n",
    "            if counted == 0: \n",
    "                \n",
    "                            ## Makes sure that we don't but borough name in more than once,\n",
    "                            ##  in case a given borough has multiple missing neighborhoods.\n",
    "                 \n",
    "                neighborhoods[i] = list(data_this_post_code.loc[:,'Borough'])[0]\n",
    "                \n",
    "                counted +=1\n",
    "            \n",
    "    new_rows.append(', '.join(neighborhoods)) ## Joining all neighborhoods together \n",
    "       \n",
    "            \n",
    "                     \n",
    "        \n",
    "\n"
   ]
  },
  {
   "cell_type": "markdown",
   "metadata": {},
   "source": [
    "## Creating Final data"
   ]
  },
  {
   "cell_type": "code",
   "execution_count": 21,
   "metadata": {},
   "outputs": [],
   "source": [
    "postcodes_and_neighborhoods = pd.DataFrame({'Postcode':unique_postcodes, 'Neighbourhood':new_rows},\n",
    "                                          columns = ('Postcode', 'Neighbourhood'))  \n",
    "\n",
    "## Data With Postcodes and Neighborhoods"
   ]
  },
  {
   "cell_type": "code",
   "execution_count": 22,
   "metadata": {},
   "outputs": [],
   "source": [
    "postcodes_and_boroughs = data_with_good_buroughs.loc[:,['Postcode','Borough']].drop_duplicates()\n",
    "\n",
    "## Data with Unique Postcodes and Boroughs"
   ]
  },
  {
   "cell_type": "code",
   "execution_count": 23,
   "metadata": {},
   "outputs": [],
   "source": [
    "final_neighborhood_data = postcodes_and_boroughs.merge(postcodes_and_neighborhoods,how = 'inner' ,on = 'Postcode')\n",
    "\n",
    "## Inner joining the two previous data sets to obtain the final data set"
   ]
  },
  {
   "cell_type": "code",
   "execution_count": 24,
   "metadata": {},
   "outputs": [
    {
     "data": {
      "text/html": [
       "<div>\n",
       "<style scoped>\n",
       "    .dataframe tbody tr th:only-of-type {\n",
       "        vertical-align: middle;\n",
       "    }\n",
       "\n",
       "    .dataframe tbody tr th {\n",
       "        vertical-align: top;\n",
       "    }\n",
       "\n",
       "    .dataframe thead th {\n",
       "        text-align: right;\n",
       "    }\n",
       "</style>\n",
       "<table border=\"1\" class=\"dataframe\">\n",
       "  <thead>\n",
       "    <tr style=\"text-align: right;\">\n",
       "      <th></th>\n",
       "      <th>Postcode</th>\n",
       "      <th>Borough</th>\n",
       "      <th>Neighbourhood</th>\n",
       "    </tr>\n",
       "  </thead>\n",
       "  <tbody>\n",
       "    <tr>\n",
       "      <th>2</th>\n",
       "      <td>M5A</td>\n",
       "      <td>Downtown Toronto</td>\n",
       "      <td>Harbourfront, Regent Park</td>\n",
       "    </tr>\n",
       "    <tr>\n",
       "      <th>6</th>\n",
       "      <td>M1B</td>\n",
       "      <td>Scarborough</td>\n",
       "      <td>Rouge, Malvern</td>\n",
       "    </tr>\n",
       "    <tr>\n",
       "      <th>8</th>\n",
       "      <td>M4B</td>\n",
       "      <td>East York</td>\n",
       "      <td>Woodbine Gardens, Parkview Hill</td>\n",
       "    </tr>\n",
       "    <tr>\n",
       "      <th>23</th>\n",
       "      <td>M4G</td>\n",
       "      <td>East York</td>\n",
       "      <td>Leaside</td>\n",
       "    </tr>\n",
       "    <tr>\n",
       "      <th>24</th>\n",
       "      <td>M5G</td>\n",
       "      <td>Downtown Toronto</td>\n",
       "      <td>Central Bay Street</td>\n",
       "    </tr>\n",
       "    <tr>\n",
       "      <th>27</th>\n",
       "      <td>M2H</td>\n",
       "      <td>North York</td>\n",
       "      <td>Hillcrest Village</td>\n",
       "    </tr>\n",
       "    <tr>\n",
       "      <th>32</th>\n",
       "      <td>M1J</td>\n",
       "      <td>Scarborough</td>\n",
       "      <td>Scarborough Village</td>\n",
       "    </tr>\n",
       "    <tr>\n",
       "      <th>50</th>\n",
       "      <td>M9L</td>\n",
       "      <td>North York</td>\n",
       "      <td>Humber Summit</td>\n",
       "    </tr>\n",
       "    <tr>\n",
       "      <th>54</th>\n",
       "      <td>M4M</td>\n",
       "      <td>East Toronto</td>\n",
       "      <td>Studio District</td>\n",
       "    </tr>\n",
       "    <tr>\n",
       "      <th>71</th>\n",
       "      <td>M1R</td>\n",
       "      <td>Scarborough</td>\n",
       "      <td>Maryvale, Wexford</td>\n",
       "    </tr>\n",
       "    <tr>\n",
       "      <th>87</th>\n",
       "      <td>M5V</td>\n",
       "      <td>Downtown Toronto</td>\n",
       "      <td>CN Tower, Bathurst Quay, Island airport, Harbo...</td>\n",
       "    </tr>\n",
       "    <tr>\n",
       "      <th>89</th>\n",
       "      <td>M9V</td>\n",
       "      <td>Etobicoke</td>\n",
       "      <td>Albion Gardens, Beaumond Heights, Humbergate, ...</td>\n",
       "    </tr>\n",
       "  </tbody>\n",
       "</table>\n",
       "</div>"
      ],
      "text/plain": [
       "   Postcode           Borough  \\\n",
       "2       M5A  Downtown Toronto   \n",
       "6       M1B       Scarborough   \n",
       "8       M4B         East York   \n",
       "23      M4G         East York   \n",
       "24      M5G  Downtown Toronto   \n",
       "27      M2H        North York   \n",
       "32      M1J       Scarborough   \n",
       "50      M9L        North York   \n",
       "54      M4M      East Toronto   \n",
       "71      M1R       Scarborough   \n",
       "87      M5V  Downtown Toronto   \n",
       "89      M9V         Etobicoke   \n",
       "\n",
       "                                        Neighbourhood  \n",
       "2                           Harbourfront, Regent Park  \n",
       "6                                      Rouge, Malvern  \n",
       "8                     Woodbine Gardens, Parkview Hill  \n",
       "23                                            Leaside  \n",
       "24                                 Central Bay Street  \n",
       "27                                  Hillcrest Village  \n",
       "32                                Scarborough Village  \n",
       "50                                      Humber Summit  \n",
       "54                                    Studio District  \n",
       "71                                  Maryvale, Wexford  \n",
       "87  CN Tower, Bathurst Quay, Island airport, Harbo...  \n",
       "89  Albion Gardens, Beaumond Heights, Humbergate, ...  "
      ]
     },
     "execution_count": 24,
     "metadata": {},
     "output_type": "execute_result"
    }
   ],
   "source": [
    "neighborhoods_to_look_at = ['M5G','M2H','M4B','M1J','M4G','M4M','M1R','M9V','M9L','M5V','M1B','M5A']\n",
    "\n",
    "final_neighborhood_data.loc[final_neighborhood_data['Postcode'].isin(neighborhoods_to_look_at),:]\n",
    "\n",
    "## Presenting the neighborhoods that are listed in the assignment sumbmission image for verification.\n",
    "## The neighborhoods will appear in a different order than shown on that image, but they correspond \n",
    "## to the correct borough and postal code.''' "
   ]
  },
  {
   "cell_type": "code",
   "execution_count": 25,
   "metadata": {},
   "outputs": [
    {
     "data": {
      "text/plain": [
       "(103, 3)"
      ]
     },
     "execution_count": 25,
     "metadata": {},
     "output_type": "execute_result"
    }
   ],
   "source": [
    "final_neighborhood_data.shape ## Dimensions of our final data set"
   ]
  }
 ],
 "metadata": {
  "kernelspec": {
   "display_name": "Python 3",
   "language": "python",
   "name": "python3"
  },
  "language_info": {
   "codemirror_mode": {
    "name": "ipython",
    "version": 3
   },
   "file_extension": ".py",
   "mimetype": "text/x-python",
   "name": "python",
   "nbconvert_exporter": "python",
   "pygments_lexer": "ipython3",
   "version": "3.6.5"
  }
 },
 "nbformat": 4,
 "nbformat_minor": 2
}
