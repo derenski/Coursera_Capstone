{
 "cells": [
  {
   "cell_type": "markdown",
   "metadata": {},
   "source": [
    "# Introduction/Business Problem"
   ]
  },
  {
   "cell_type": "markdown",
   "metadata": {},
   "source": [
    "<p>In a given region, the types and quality of food available can vary widely. In some areas you will find a plethora of food options, with high quality cuisines coming from cultures all over the world; in other places the food options are far fewer, and perhaps the quality lower. However, even if the types of tastes available in a given area may be few, the food itself can still be of a very high quality. Here, we are going to examine the types and qualities of food available in different regions of of California. We will examine the relationship between this availability and quality, and various demographic variables such as: income, voting preferences, ethnic diversity, and other variables. We will also discuss the “uniqueness” of food options available in a region. This can be relevant when, say, determining what makes a particular region known for a certain type of cuisine.</p>\n",
    "\n",
    "<p>Understanding these relationships can help determine what tastes are prevalent to which region, and what demographics are associated with those tastes. For example, in a highly diverse metropolitan area such as Los Angeles one would expect to find a wide array of tastes, while in a rural county such as Kern county the types of cuisine available may be fewer. Still, rural areas can still offer quality tastes that are unique to that region. For example, San Luis Obispo county is a rural county, yet it offers a unique selection of delicious wines and beers, and seafood sourced from the Pacific ocean. Thus, food diversity and quality is more than simply having a wide array of food options to choose from, but can also relate to any unique quality of tastes a particular region has to offer. </p>\n",
    "\n",
    "<p>These kinds of questions would be highly relevant to any chef or chain restaurant looking to penetrate a new market of customers. For example, a fast food chain may be cautious when opening restaurants in an area that is known for the cuisine of food that restaurant produces. It is reasonable to imagine that the potential customers are accustomed to a certain quality and taste of food, and might be unwilling to eat a fast food version what they are used to (even if it is convenient). </p>\n",
    "\n",
    "<p>On the other hand, let’s consider a chef who specializes in a cuisine that is not currently available in a given area. Should that chef open a restaurant in that area? This is a very difficult question to answer, but one way to begin answering it is by examining the demographics of the area, and determining if there might be a market for a new type of cuisine in that area. This can be assessed by examining the relationship between demographics and the food options traditionally available to the population exhibiting these demographics, and determining if such a population would be willing to try something new. In essence, this kind of analysis would be useful in marketing research, where we are attempting to determine whether or not a considered market is a good match for a given product. Thus, the chef may try to analyze the prevalent tastes of that market, and assume that underlying those tastes are various demographic variables. If those variables suggest that the participants under consideration are open to new tastes, then that chef might try to open a restaurant in that area. Thus, this kind of analysis can be helpful to any corporation looking to expand into a previously untapped market, though admittedly it relies on the assumption that the cuisines available in particular region are representative of the tastes of the population that lives there (though this may be an incomplete representation). </p>"
   ]
  },
  {
   "cell_type": "markdown",
   "metadata": {},
   "source": [
    "# Data"
   ]
  },
  {
   "cell_type": "markdown",
   "metadata": {},
   "source": [
    " <p> The data available here is a combination of US census data, and restaurant data for counties in California. Some of these counties are very densely populated (Los Angeles, and Orange counties for example), while other are more rural (Kern, and San Luis Obispo counties for example). The demographic data consists of variables such as: population density, median income, voting preferences, and racial makeup for each county. From these counties, we will gather a representative sample of restaurant data from. We will also pair with each of these subdivisions an estimate of that subdivision’s population density (as provided by the census). \n",
    "Along with this data are geographic parameters for each county, particularly how much of that county’s area is land, and how much of it is water. land and water availability might be predictive in determining both the types and diversity of cuisines available to people who live in that area. Land and water area will be turned into proportions of total area at the county level (i.e. what proportion of the area of a particular county is water, and what proportion is land). We also have census data on the numbers of people of different races in each county (where the races are defined by the US census). We will use this data to calculate a diversity index for each county. </p>\n",
    "<p> The restaurant data will be pulled from FourSquare’s location data, and will consist of restaurant’s name, type of food served, and average rating. As some of these areas will contain many more restaurants than others, a limit will be placed on how many restaurants can be drawn from each subdivision (probably a number like 100). Counties with few or no restaurants will be omitted from the analysis. Obtaining a representative sample of restaurants from each county will be a bit of a challenge, but the plan is to sample restaurants from the densest region of each county (densest in terms of population). This will mean sampling from the county seat of each county (which is considered to be the main city in that county). Still, for some of the very remote counties the county seat will be a very small city. </p>\n",
    "<p> The particular variables of interest will be a restaurant’s category, and rating. These are the variables that will be used to both determine how diverse the cuisines are in a region (particular the category of the restaurant), and the rating will be used to determine the quality of the cuisine served. This data will be used to create a diversity/quality metric for the food in a given region. We may wish to combine these variables together to create an overall food metric for a region (where the larger the metric means the food options are better). However, we may also wish to analyze diversity and quality separately. </p>\n",
    "\n",
    "<p> Once we have acquired and cleaned the data, variables relating to ethnicity will be aggregated to into a measure of diversity. To measure the diversity/uniqueness of food options available in a particular county, the restaurant data will be used to determine the category of cuisine the restaurant falls under, and how prevalent each category is in the area. What we may see is that certain areas may not be very diverse, but they are known for a very high quality of food from a particular cuisine. </p>\n",
    "<p> After the preprocessing is complete, the data will be explored so as to understand the data we have collected, and the relationship between the various variables. For the formal modeling portion of the analysis multiple linear regression will be used with food diversity/uniqueness as the response, and various demographic variables as predictors. The result of this analysis will quantify how the demographic factors relate to food diversity (if at all). </p>\n"
   ]
  },
  {
   "cell_type": "code",
   "execution_count": null,
   "metadata": {},
   "outputs": [],
   "source": []
  }
 ],
 "metadata": {
  "kernelspec": {
   "display_name": "Python 3",
   "language": "python",
   "name": "python3"
  },
  "language_info": {
   "codemirror_mode": {
    "name": "ipython",
    "version": 3
   },
   "file_extension": ".py",
   "mimetype": "text/x-python",
   "name": "python",
   "nbconvert_exporter": "python",
   "pygments_lexer": "ipython3",
   "version": "3.6.5"
  }
 },
 "nbformat": 4,
 "nbformat_minor": 2
}
