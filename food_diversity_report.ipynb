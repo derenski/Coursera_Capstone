{
 "cells": [
  {
   "cell_type": "markdown",
   "metadata": {},
   "source": [
    "# Introduction "
   ]
  },
  {
   "cell_type": "markdown",
   "metadata": {},
   "source": [
    "<p>In a given region, the types and quality of food available can vary widely. In some areas you will find a plethora of food options, with high quality cuisines coming from cultures all over the world; in other places the food options are far fewer, and perhaps the quality lower. However, even if the types of tastes available in a given area may be few, the food itself can still be of a very high quality. Here, we are going to examine the types and qualities of food available in different regions of of California. We will examine the relationship between this availability and quality, and various demographic variables such as: income, voting preferences, ethnic diversity, and other variables. We will also discuss the “uniqueness” of food options available in a region. This can be relevant when, say, determining what makes a particular region known for a certain type of cuisine.</p>\n",
    "\n",
    "<p>Understanding these relationships can help determine what tastes are prevalent to which region, and what demographics are associated with those tastes. For example, in a highly diverse metropolitan area such as Los Angeles one would expect to find a wide array of tastes, while in a rural county such as Kern county the types of cuisine available may be fewer. Still, rural areas can still offer quality tastes that are unique to that region. For example, San Luis Obispo county is a rural county, yet it offers a unique selection of delicious wines and beers, and seafood sourced from the Pacific ocean. Thus, food diversity and quality is more than simply having a wide array of food options to choose from, but can also relate to any unique quality of tastes a particular region has to offer. </p>\n",
    "\n",
    "<p>These kinds of questions would be highly relevant to any chef or chain restaurant looking to penetrate a new market of customers. For example, a fast food chain may be cautious when opening restaurants in an area that is known for the cuisine of food that restaurant produces. It is reasonable to imagine that the potential customers are accustomed to a certain quality and taste of food, and might be unwilling to eat a fast food version what they are used to (even if it is convenient). </p>\n",
    "\n",
    "<p>On the other hand, let’s consider a chef who specializes in a cuisine that is not currently available in a given area. Should that chef open a restaurant in that area? This is a very difficult question to answer, but one way to begin answering it is by examining the demographics of the area, and determining if there might be a market for a new type of cuisine in that area. This can be assessed by examining the relationship between demographics and the food options traditionally available to the population exhibiting these demographics, and determining if such a population would be willing to try something new. In essence, this kind of analysis would be useful in marketing research, where we are attempting to determine whether or not a considered market is a good match for a given product. Thus, the chef may try to analyze the prevalent tastes of that market, and assume that underlying those tastes are various demographic variables. If those variables suggest that the participants under consideration are open to new tastes, then that chef might try to open a restaurant in that area. Thus, this kind of analysis can be helpful to any corporation looking to expand into a previously untapped market, though admittedly it relies on the assumption that the cuisines available in particular region are representative of the tastes of the population that lives there (though this may be an incomplete representation). </p>"
   ]
  },
  {
   "cell_type": "code",
   "execution_count": null,
   "metadata": {},
   "outputs": [],
   "source": []
  }
 ],
 "metadata": {
  "kernelspec": {
   "display_name": "Python 3",
   "language": "python",
   "name": "python3"
  },
  "language_info": {
   "codemirror_mode": {
    "name": "ipython",
    "version": 3
   },
   "file_extension": ".py",
   "mimetype": "text/x-python",
   "name": "python",
   "nbconvert_exporter": "python",
   "pygments_lexer": "ipython3",
   "version": "3.6.5"
  }
 },
 "nbformat": 4,
 "nbformat_minor": 2
}
